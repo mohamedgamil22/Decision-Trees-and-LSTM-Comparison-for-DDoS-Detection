{
 "cells": [
  {
   "cell_type": "code",
   "execution_count": 1,
   "id": "d0c822ec-03af-43b8-bdda-b2ae1b923777",
   "metadata": {},
   "outputs": [
    {
     "name": "stdout",
     "output_type": "stream",
     "text": [
      "Collecting seaborn\n",
      "  Using cached seaborn-0.13.2-py3-none-any.whl.metadata (5.4 kB)\n",
      "Requirement already satisfied: numpy!=1.24.0,>=1.20 in /opt/conda/lib/python3.11/site-packages (from seaborn) (1.26.4)\n",
      "Requirement already satisfied: pandas>=1.2 in /opt/conda/lib/python3.11/site-packages (from seaborn) (2.2.2)\n",
      "Requirement already satisfied: matplotlib!=3.6.1,>=3.4 in /opt/conda/lib/python3.11/site-packages (from seaborn) (3.9.2)\n",
      "Requirement already satisfied: contourpy>=1.0.1 in /opt/conda/lib/python3.11/site-packages (from matplotlib!=3.6.1,>=3.4->seaborn) (1.2.1)\n",
      "Requirement already satisfied: cycler>=0.10 in /opt/conda/lib/python3.11/site-packages (from matplotlib!=3.6.1,>=3.4->seaborn) (0.12.1)\n",
      "Requirement already satisfied: fonttools>=4.22.0 in /opt/conda/lib/python3.11/site-packages (from matplotlib!=3.6.1,>=3.4->seaborn) (4.53.1)\n",
      "Requirement already satisfied: kiwisolver>=1.3.1 in /opt/conda/lib/python3.11/site-packages (from matplotlib!=3.6.1,>=3.4->seaborn) (1.4.5)\n",
      "Requirement already satisfied: packaging>=20.0 in /opt/conda/lib/python3.11/site-packages (from matplotlib!=3.6.1,>=3.4->seaborn) (24.1)\n",
      "Requirement already satisfied: pillow>=8 in /opt/conda/lib/python3.11/site-packages (from matplotlib!=3.6.1,>=3.4->seaborn) (10.4.0)\n",
      "Requirement already satisfied: pyparsing>=2.3.1 in /opt/conda/lib/python3.11/site-packages (from matplotlib!=3.6.1,>=3.4->seaborn) (3.1.2)\n",
      "Requirement already satisfied: python-dateutil>=2.7 in /opt/conda/lib/python3.11/site-packages (from matplotlib!=3.6.1,>=3.4->seaborn) (2.9.0)\n",
      "Requirement already satisfied: pytz>=2020.1 in /opt/conda/lib/python3.11/site-packages (from pandas>=1.2->seaborn) (2023.3)\n",
      "Requirement already satisfied: tzdata>=2022.7 in /opt/conda/lib/python3.11/site-packages (from pandas>=1.2->seaborn) (2024.1)\n",
      "Requirement already satisfied: six>=1.5 in /opt/conda/lib/python3.11/site-packages (from python-dateutil>=2.7->matplotlib!=3.6.1,>=3.4->seaborn) (1.16.0)\n",
      "Using cached seaborn-0.13.2-py3-none-any.whl (294 kB)\n",
      "Installing collected packages: seaborn\n",
      "Successfully installed seaborn-0.13.2\n",
      "Collecting modin[ray]\n",
      "  Using cached modin-0.32.0-py3-none-any.whl.metadata (17 kB)\n",
      "Requirement already satisfied: pandas<2.3,>=2.2 in /opt/conda/lib/python3.11/site-packages (from modin[ray]) (2.2.2)\n",
      "Requirement already satisfied: packaging>=21.0 in /opt/conda/lib/python3.11/site-packages (from modin[ray]) (24.1)\n",
      "Requirement already satisfied: numpy>=1.22.4 in /opt/conda/lib/python3.11/site-packages (from modin[ray]) (1.26.4)\n",
      "Requirement already satisfied: fsspec>=2022.11.0 in /opt/conda/lib/python3.11/site-packages (from modin[ray]) (2023.6.0)\n",
      "Requirement already satisfied: psutil>=5.8.0 in /opt/conda/lib/python3.11/site-packages (from modin[ray]) (5.9.8)\n",
      "Requirement already satisfied: ray!=2.5.0,>=2.1.0 in /opt/conda/lib/python3.11/site-packages (from modin[ray]) (2.31.0)\n",
      "Requirement already satisfied: pyarrow>=10.0.1 in /opt/conda/lib/python3.11/site-packages (from modin[ray]) (15.0.2)\n",
      "Requirement already satisfied: python-dateutil>=2.8.2 in /opt/conda/lib/python3.11/site-packages (from pandas<2.3,>=2.2->modin[ray]) (2.9.0)\n",
      "Requirement already satisfied: pytz>=2020.1 in /opt/conda/lib/python3.11/site-packages (from pandas<2.3,>=2.2->modin[ray]) (2023.3)\n",
      "Requirement already satisfied: tzdata>=2022.7 in /opt/conda/lib/python3.11/site-packages (from pandas<2.3,>=2.2->modin[ray]) (2024.1)\n",
      "Requirement already satisfied: six>=1.5 in /opt/conda/lib/python3.11/site-packages (from python-dateutil>=2.8.2->pandas<2.3,>=2.2->modin[ray]) (1.16.0)\n",
      "Using cached modin-0.32.0-py3-none-any.whl (1.1 MB)\n",
      "Installing collected packages: modin\n",
      "Successfully installed modin-0.32.0\n",
      "Requirement already satisfied: ray in /opt/conda/lib/python3.11/site-packages (2.31.0)\n",
      "Collecting imbalanced-learn\n",
      "  Using cached imbalanced_learn-0.12.3-py3-none-any.whl.metadata (8.3 kB)\n",
      "Requirement already satisfied: numpy>=1.17.3 in /opt/conda/lib/python3.11/site-packages (from imbalanced-learn) (1.26.4)\n",
      "Requirement already satisfied: scipy>=1.5.0 in /opt/conda/lib/python3.11/site-packages (from imbalanced-learn) (1.12.0)\n",
      "Requirement already satisfied: scikit-learn>=1.0.2 in /opt/conda/lib/python3.11/site-packages (from imbalanced-learn) (1.4.2)\n",
      "Requirement already satisfied: joblib>=1.1.1 in /opt/conda/lib/python3.11/site-packages (from imbalanced-learn) (1.4.2)\n",
      "Requirement already satisfied: threadpoolctl>=2.0.0 in /opt/conda/lib/python3.11/site-packages (from imbalanced-learn) (3.5.0)\n",
      "Using cached imbalanced_learn-0.12.3-py3-none-any.whl (258 kB)\n",
      "Installing collected packages: imbalanced-learn\n",
      "Successfully installed imbalanced-learn-0.12.3\n",
      "Collecting pandas-profiling\n",
      "  Using cached pandas_profiling-3.2.0-py2.py3-none-any.whl.metadata (21 kB)\n",
      "Collecting joblib~=1.1.0 (from pandas-profiling)\n",
      "  Using cached joblib-1.1.1-py2.py3-none-any.whl.metadata (5.2 kB)\n",
      "Requirement already satisfied: scipy>=1.4.1 in /opt/conda/lib/python3.11/site-packages (from pandas-profiling) (1.12.0)\n",
      "Requirement already satisfied: pandas!=1.0.0,!=1.0.1,!=1.0.2,!=1.1.0,>=0.25.3 in /opt/conda/lib/python3.11/site-packages (from pandas-profiling) (2.2.2)\n",
      "Requirement already satisfied: matplotlib>=3.2.0 in /opt/conda/lib/python3.11/site-packages (from pandas-profiling) (3.9.2)\n",
      "Requirement already satisfied: pydantic>=1.8.1 in /opt/conda/lib/python3.11/site-packages (from pandas-profiling) (1.10.17)\n",
      "Requirement already satisfied: PyYAML>=5.0.0 in /opt/conda/lib/python3.11/site-packages (from pandas-profiling) (6.0.2)\n",
      "Requirement already satisfied: jinja2>=2.11.1 in /opt/conda/lib/python3.11/site-packages (from pandas-profiling) (3.1.4)\n",
      "Requirement already satisfied: markupsafe~=2.1.1 in /opt/conda/lib/python3.11/site-packages (from pandas-profiling) (2.1.5)\n",
      "Collecting visions==0.7.4 (from visions[type_image_path]==0.7.4->pandas-profiling)\n",
      "  Using cached visions-0.7.4-py3-none-any.whl.metadata (5.9 kB)\n",
      "Requirement already satisfied: numpy>=1.16.0 in /opt/conda/lib/python3.11/site-packages (from pandas-profiling) (1.26.4)\n",
      "Collecting htmlmin>=0.1.12 (from pandas-profiling)\n",
      "  Using cached htmlmin-0.1.12-py3-none-any.whl\n",
      "Collecting missingno>=0.4.2 (from pandas-profiling)\n",
      "  Using cached missingno-0.5.2-py3-none-any.whl.metadata (639 bytes)\n",
      "Collecting phik>=0.11.1 (from pandas-profiling)\n",
      "  Using cached phik-0.12.4-cp311-cp311-manylinux_2_17_x86_64.manylinux2014_x86_64.whl.metadata (5.6 kB)\n",
      "Collecting tangled-up-in-unicode==0.2.0 (from pandas-profiling)\n",
      "  Using cached tangled_up_in_unicode-0.2.0-py3-none-any.whl.metadata (4.8 kB)\n",
      "Requirement already satisfied: requests>=2.24.0 in /opt/conda/lib/python3.11/site-packages (from pandas-profiling) (2.32.3)\n",
      "Requirement already satisfied: tqdm>=4.48.2 in /opt/conda/lib/python3.11/site-packages (from pandas-profiling) (4.66.5)\n",
      "Requirement already satisfied: seaborn>=0.10.1 in /opt/conda/lib/python3.11/site-packages (from pandas-profiling) (0.13.2)\n",
      "Collecting multimethod>=1.4 (from pandas-profiling)\n",
      "  Using cached multimethod-1.12-py3-none-any.whl.metadata (9.6 kB)\n",
      "Requirement already satisfied: attrs>=19.3.0 in /opt/conda/lib/python3.11/site-packages (from visions==0.7.4->visions[type_image_path]==0.7.4->pandas-profiling) (23.2.0)\n",
      "Requirement already satisfied: networkx>=2.4 in /opt/conda/lib/python3.11/site-packages (from visions==0.7.4->visions[type_image_path]==0.7.4->pandas-profiling) (3.3)\n",
      "Collecting imagehash (from visions[type_image_path]==0.7.4->pandas-profiling)\n",
      "  Using cached ImageHash-4.3.1-py2.py3-none-any.whl.metadata (8.0 kB)\n",
      "Requirement already satisfied: Pillow in /opt/conda/lib/python3.11/site-packages (from visions[type_image_path]==0.7.4->pandas-profiling) (10.4.0)\n",
      "Requirement already satisfied: contourpy>=1.0.1 in /opt/conda/lib/python3.11/site-packages (from matplotlib>=3.2.0->pandas-profiling) (1.2.1)\n",
      "Requirement already satisfied: cycler>=0.10 in /opt/conda/lib/python3.11/site-packages (from matplotlib>=3.2.0->pandas-profiling) (0.12.1)\n",
      "Requirement already satisfied: fonttools>=4.22.0 in /opt/conda/lib/python3.11/site-packages (from matplotlib>=3.2.0->pandas-profiling) (4.53.1)\n",
      "Requirement already satisfied: kiwisolver>=1.3.1 in /opt/conda/lib/python3.11/site-packages (from matplotlib>=3.2.0->pandas-profiling) (1.4.5)\n",
      "Requirement already satisfied: packaging>=20.0 in /opt/conda/lib/python3.11/site-packages (from matplotlib>=3.2.0->pandas-profiling) (24.1)\n",
      "Requirement already satisfied: pyparsing>=2.3.1 in /opt/conda/lib/python3.11/site-packages (from matplotlib>=3.2.0->pandas-profiling) (3.1.2)\n",
      "Requirement already satisfied: python-dateutil>=2.7 in /opt/conda/lib/python3.11/site-packages (from matplotlib>=3.2.0->pandas-profiling) (2.9.0)\n",
      "Requirement already satisfied: pytz>=2020.1 in /opt/conda/lib/python3.11/site-packages (from pandas!=1.0.0,!=1.0.1,!=1.0.2,!=1.1.0,>=0.25.3->pandas-profiling) (2023.3)\n",
      "Requirement already satisfied: tzdata>=2022.7 in /opt/conda/lib/python3.11/site-packages (from pandas!=1.0.0,!=1.0.1,!=1.0.2,!=1.1.0,>=0.25.3->pandas-profiling) (2024.1)\n",
      "Requirement already satisfied: typing-extensions>=4.2.0 in /opt/conda/lib/python3.11/site-packages (from pydantic>=1.8.1->pandas-profiling) (4.12.2)\n",
      "Requirement already satisfied: charset-normalizer<4,>=2 in /opt/conda/lib/python3.11/site-packages (from requests>=2.24.0->pandas-profiling) (3.3.2)\n",
      "Requirement already satisfied: idna<4,>=2.5 in /opt/conda/lib/python3.11/site-packages (from requests>=2.24.0->pandas-profiling) (3.7)\n",
      "Requirement already satisfied: urllib3<3,>=1.21.1 in /opt/conda/lib/python3.11/site-packages (from requests>=2.24.0->pandas-profiling) (1.26.19)\n",
      "Requirement already satisfied: certifi>=2017.4.17 in /opt/conda/lib/python3.11/site-packages (from requests>=2.24.0->pandas-profiling) (2024.7.4)\n",
      "Requirement already satisfied: six>=1.5 in /opt/conda/lib/python3.11/site-packages (from python-dateutil>=2.7->matplotlib>=3.2.0->pandas-profiling) (1.16.0)\n",
      "Requirement already satisfied: PyWavelets in /opt/conda/lib/python3.11/site-packages (from imagehash->visions[type_image_path]==0.7.4->pandas-profiling) (1.7.0)\n",
      "Using cached pandas_profiling-3.2.0-py2.py3-none-any.whl (262 kB)\n",
      "Using cached tangled_up_in_unicode-0.2.0-py3-none-any.whl (4.7 MB)\n",
      "Using cached visions-0.7.4-py3-none-any.whl (102 kB)\n",
      "Using cached joblib-1.1.1-py2.py3-none-any.whl (309 kB)\n",
      "Using cached missingno-0.5.2-py3-none-any.whl (8.7 kB)\n",
      "Using cached multimethod-1.12-py3-none-any.whl (10 kB)\n",
      "Using cached phik-0.12.4-cp311-cp311-manylinux_2_17_x86_64.manylinux2014_x86_64.whl (687 kB)\n",
      "Using cached ImageHash-4.3.1-py2.py3-none-any.whl (296 kB)\n",
      "Installing collected packages: htmlmin, tangled-up-in-unicode, multimethod, joblib, imagehash, visions, phik, missingno, pandas-profiling\n",
      "  Attempting uninstall: joblib\n",
      "    Found existing installation: joblib 1.4.2\n",
      "    Uninstalling joblib-1.4.2:\n",
      "      Successfully uninstalled joblib-1.4.2\n",
      "\u001b[31mERROR: pip's dependency resolver does not currently take into account all the packages that are installed. This behaviour is the source of the following dependency conflicts.\n",
      "autogluon-timeseries 1.1.1 requires gluonts==0.15.1, but you have gluonts 0.14.3 which is incompatible.\n",
      "scikit-learn 1.4.2 requires joblib>=1.2.0, but you have joblib 1.1.1 which is incompatible.\u001b[0m\u001b[31m\n",
      "\u001b[0mSuccessfully installed htmlmin-0.1.12 imagehash-4.3.1 joblib-1.1.1 missingno-0.5.2 multimethod-1.12 pandas-profiling-3.2.0 phik-0.12.4 tangled-up-in-unicode-0.2.0 visions-0.7.4\n"
     ]
    }
   ],
   "source": [
    "!pip install seaborn\n",
    "!pip install modin[ray]\n",
    "!pip install ray\n",
    "!pip install imbalanced-learn\n",
    "!pip install pandas-profiling"
   ]
  },
  {
   "cell_type": "code",
   "execution_count": 2,
   "id": "dcc607c6-a769-4708-82a4-d02043330b74",
   "metadata": {},
   "outputs": [
    {
     "name": "stdout",
     "output_type": "stream",
     "text": [
      "Requirement already satisfied: ray[tune] in /opt/conda/lib/python3.11/site-packages (2.31.0)\n"
     ]
    }
   ],
   "source": [
    "!pip install ray[tune]\n"
   ]
  },
  {
   "cell_type": "code",
   "execution_count": 53,
   "id": "ec357660-9a23-4e9c-b925-372f7ea83843",
   "metadata": {},
   "outputs": [
    {
     "name": "stdout",
     "output_type": "stream",
     "text": [
      "Requirement already satisfied: joblib in /opt/conda/lib/python3.11/site-packages (1.1.1)\n",
      "Collecting joblib\n",
      "  Downloading joblib-1.4.2-py3-none-any.whl.metadata (5.4 kB)\n",
      "Downloading joblib-1.4.2-py3-none-any.whl (301 kB)\n",
      "Installing collected packages: joblib\n",
      "  Attempting uninstall: joblib\n",
      "    Found existing installation: joblib 1.1.1\n",
      "    Uninstalling joblib-1.1.1:\n",
      "      Successfully uninstalled joblib-1.1.1\n",
      "\u001b[31mERROR: pip's dependency resolver does not currently take into account all the packages that are installed. This behaviour is the source of the following dependency conflicts.\n",
      "autogluon-timeseries 1.1.1 requires gluonts==0.15.1, but you have gluonts 0.14.3 which is incompatible.\n",
      "pandas-profiling 3.2.0 requires joblib~=1.1.0, but you have joblib 1.4.2 which is incompatible.\u001b[0m\u001b[31m\n",
      "\u001b[0mSuccessfully installed joblib-1.4.2\n"
     ]
    }
   ],
   "source": [
    "!pip install --upgrade joblib"
   ]
  },
  {
   "cell_type": "markdown",
   "id": "0d8d38d3-b47d-4282-8902-3b3ac6539e09",
   "metadata": {},
   "source": [
    "# 1. Loading Libraries"
   ]
  },
  {
   "cell_type": "code",
   "execution_count": 152,
   "id": "3a87da1f-1474-4f84-9633-6ed5f4e8415f",
   "metadata": {},
   "outputs": [],
   "source": [
    "import numpy as np\n",
    "from sklearn.model_selection import train_test_split, GridSearchCV\n",
    "from sklearn.tree import DecisionTreeClassifier, plot_tree\n",
    "from sklearn.ensemble import RandomForestClassifier\n",
    "from sklearn.metrics import classification_report, accuracy_score, confusion_matrix, roc_curve, f1_score, roc_auc_score, make_scorer\n",
    "import matplotlib.pyplot as plt\n",
    "import seaborn as sns\n",
    "import json\n",
    "import os\n",
    "import pandas as _pd\n",
    "import joblib\n",
    "from imblearn.over_sampling import SMOTE\n",
    "from imblearn.under_sampling import RandomUnderSampler\n",
    "from sklearn.metrics import classification_report, accuracy_score, confusion_matrix, f1_score"
   ]
  },
  {
   "cell_type": "code",
   "execution_count": 5,
   "id": "86d331c6-cb73-4d9f-b42f-4282f19b31dd",
   "metadata": {},
   "outputs": [
    {
     "name": "stdout",
     "output_type": "stream",
     "text": [
      "mkdir: cannot create directory ‘/mnt/sagemaker-nvme/ray_temp’: File exists\n"
     ]
    }
   ],
   "source": [
    "!mkdir /mnt/sagemaker-nvme/ray_temp\n",
    "!mkdir /mnt/sagemaker-nvme/ray_temp_plasma"
   ]
  },
  {
   "cell_type": "code",
   "execution_count": 6,
   "id": "2a2eb8fa-d977-4204-aded-6356db93b071",
   "metadata": {},
   "outputs": [
    {
     "name": "stderr",
     "output_type": "stream",
     "text": [
      "2024-10-01 03:23:36,694\tINFO services.py:2034 -- object_store_memory is not verified when plasma_directory is set.\n",
      "2024-10-01 03:23:36,843\tINFO worker.py:1762 -- Started a local Ray instance. View the dashboard at \u001b[1m\u001b[32mhttp://127.0.0.1:8266 \u001b[39m\u001b[22m\n"
     ]
    }
   ],
   "source": [
    "import json\n",
    "import modin.pandas as pd\n",
    "import ray\n",
    "\n",
    "ray_info = ray.init(\n",
    "    _system_config={\n",
    "    \"object_spilling_config\": json.dumps(\n",
    "        {\"type\": \"filesystem\", \"params\": {\"directory_path\": \"/mnt/sagemaker-nvme/ray_lstm_spelling\"}},\n",
    "    )\n",
    "    },\n",
    "    object_store_memory=(214748364800), # Allocates 200 GB to Ray Plasma memory, which stores object on available memory space.\n",
    "    _temp_dir=\"/mnt/sagemaker-nvme/ray_temp\",\n",
    "    _plasma_directory=\"/mnt/sagemaker-nvme/ray_temp_plasma\",\n",
    "    ignore_reinit_error=True\n",
    ")"
   ]
  },
  {
   "cell_type": "code",
   "execution_count": 7,
   "id": "1293373f-f516-416e-9dda-f5a9a01419af",
   "metadata": {},
   "outputs": [
    {
     "data": {
      "application/vnd.jupyter.widget-view+json": {
       "model_id": "ef52a2ced31e4e2f9ee172099ae8ce03",
       "version_major": 2,
       "version_minor": 0
      },
      "text/html": [
       "<div class=\"lm-Widget p-Widget lm-Panel p-Panel jp-Cell-outputWrapper\">\n",
       "    <div style=\"margin-left: 50px;display: flex;flex-direction: row;align-items: center\">\n",
       "        <div class=\"jp-RenderedHTMLCommon\" style=\"display: flex; flex-direction: row;\">\n",
       "  <svg viewBox=\"0 0 567 224\" fill=\"none\" xmlns=\"http://www.w3.org/2000/svg\" style=\"height: 3em;\">\n",
       "    <g clip-path=\"url(#clip0_4338_178347)\">\n",
       "        <path d=\"M341.29 165.561H355.29L330.13 129.051C345.63 123.991 354.21 112.051 354.21 94.2307C354.21 71.3707 338.72 58.1807 311.88 58.1807H271V165.561H283.27V131.661H311.8C314.25 131.661 316.71 131.501 319.01 131.351L341.25 165.561H341.29ZM283.29 119.851V70.0007H311.82C331.3 70.0007 342.34 78.2907 342.34 94.5507C342.34 111.271 331.34 119.861 311.82 119.861L283.29 119.851ZM451.4 138.411L463.4 165.561H476.74L428.74 58.1807H416L367.83 165.561H380.83L392.83 138.411H451.4ZM446.19 126.601H398L422 72.1407L446.24 126.601H446.19ZM526.11 128.741L566.91 58.1807H554.35L519.99 114.181L485.17 58.1807H472.44L514.01 129.181V165.541H526.13V128.741H526.11Z\" fill=\"var(--jp-ui-font-color0)\"/>\n",
       "        <path d=\"M82.35 104.44C84.0187 97.8827 87.8248 92.0678 93.1671 87.9146C98.5094 83.7614 105.083 81.5067 111.85 81.5067C118.617 81.5067 125.191 83.7614 130.533 87.9146C135.875 92.0678 139.681 97.8827 141.35 104.44H163.75C164.476 101.562 165.622 98.8057 167.15 96.2605L127.45 56.5605C121.071 60.3522 113.526 61.6823 106.235 60.3005C98.9443 58.9187 92.4094 54.9203 87.8602 49.0574C83.3109 43.1946 81.0609 35.8714 81.5332 28.4656C82.0056 21.0599 85.1679 14.0819 90.4252 8.8446C95.6824 3.60726 102.672 0.471508 110.08 0.0272655C117.487 -0.416977 124.802 1.86091 130.647 6.4324C136.493 11.0039 140.467 17.5539 141.821 24.8501C143.175 32.1463 141.816 39.6859 138 46.0505L177.69 85.7505C182.31 82.9877 187.58 81.4995 192.962 81.4375C198.345 81.3755 203.648 82.742 208.33 85.3976C213.012 88.0532 216.907 91.9029 219.616 96.5544C222.326 101.206 223.753 106.492 223.753 111.875C223.753 117.258 222.326 122.545 219.616 127.197C216.907 131.848 213.012 135.698 208.33 138.353C203.648 141.009 198.345 142.375 192.962 142.313C187.58 142.251 182.31 140.763 177.69 138L138 177.7C141.808 184.071 143.155 191.614 141.79 198.91C140.424 206.205 136.44 212.75 130.585 217.313C124.731 221.875 117.412 224.141 110.004 223.683C102.596 223.226 95.6103 220.077 90.3621 214.828C85.1139 209.58 81.9647 202.595 81.5072 195.187C81.0497 187.779 83.3154 180.459 87.878 174.605C92.4405 168.751 98.9853 164.766 106.281 163.401C113.576 162.035 121.119 163.383 127.49 167.19L167.19 127.49C165.664 124.941 164.518 122.182 163.79 119.3H141.39C139.721 125.858 135.915 131.673 130.573 135.826C125.231 139.98 118.657 142.234 111.89 142.234C105.123 142.234 98.5494 139.98 93.2071 135.826C87.8648 131.673 84.0587 125.858 82.39 119.3H60C58.1878 126.495 53.8086 132.78 47.6863 136.971C41.5641 141.163 34.1211 142.972 26.7579 142.059C19.3947 141.146 12.6191 137.574 7.70605 132.014C2.79302 126.454 0.0813599 119.29 0.0813599 111.87C0.0813599 104.451 2.79302 97.2871 7.70605 91.7272C12.6191 86.1673 19.3947 82.5947 26.7579 81.6817C34.1211 80.7686 41.5641 82.5781 47.6863 86.7696C53.8086 90.9611 58.1878 97.2456 60 104.44H82.35ZM100.86 204.32C103.407 206.868 106.759 208.453 110.345 208.806C113.93 209.159 117.527 208.258 120.522 206.256C123.517 204.254 125.725 201.276 126.771 197.828C127.816 194.38 127.633 190.677 126.253 187.349C124.874 184.021 122.383 181.274 119.205 179.577C116.027 177.88 112.359 177.337 108.826 178.042C105.293 178.746 102.113 180.654 99.8291 183.44C97.5451 186.226 96.2979 189.718 96.3 193.32C96.2985 195.364 96.7006 197.388 97.4831 199.275C98.2656 201.163 99.4132 202.877 100.86 204.32ZM204.32 122.88C206.868 120.333 208.453 116.981 208.806 113.396C209.159 109.811 208.258 106.214 206.256 103.219C204.254 100.223 201.275 98.0151 197.827 96.97C194.38 95.9249 190.676 96.1077 187.348 97.4873C184.02 98.8669 181.274 101.358 179.577 104.536C177.879 107.714 177.337 111.382 178.041 114.915C178.746 118.448 180.653 121.627 183.439 123.911C186.226 126.195 189.717 127.443 193.32 127.44C195.364 127.443 197.388 127.042 199.275 126.259C201.163 125.476 202.878 124.328 204.32 122.88ZM122.88 19.4205C120.333 16.8729 116.981 15.2876 113.395 14.9347C109.81 14.5817 106.213 15.483 103.218 17.4849C100.223 19.4868 98.0146 22.4654 96.9696 25.9131C95.9245 29.3608 96.1073 33.0642 97.4869 36.3922C98.8665 39.7202 101.358 42.4668 104.535 44.1639C107.713 45.861 111.381 46.4036 114.914 45.6992C118.447 44.9949 121.627 43.0871 123.911 40.301C126.195 37.515 127.442 34.0231 127.44 30.4205C127.44 28.3772 127.038 26.3539 126.255 24.4664C125.473 22.5788 124.326 20.8642 122.88 19.4205ZM19.42 100.86C16.8725 103.408 15.2872 106.76 14.9342 110.345C14.5813 113.93 15.4826 117.527 17.4844 120.522C19.4863 123.518 22.4649 125.726 25.9127 126.771C29.3604 127.816 33.0638 127.633 36.3918 126.254C39.7198 124.874 42.4664 122.383 44.1635 119.205C45.8606 116.027 46.4032 112.359 45.6988 108.826C44.9944 105.293 43.0866 102.114 40.3006 99.8296C37.5145 97.5455 34.0227 96.2983 30.42 96.3005C26.2938 96.3018 22.337 97.9421 19.42 100.86ZM100.86 100.86C98.3125 103.408 96.7272 106.76 96.3742 110.345C96.0213 113.93 96.9226 117.527 98.9244 120.522C100.926 123.518 103.905 125.726 107.353 126.771C110.8 127.816 114.504 127.633 117.832 126.254C121.16 124.874 123.906 122.383 125.604 119.205C127.301 116.027 127.843 112.359 127.139 108.826C126.434 105.293 124.527 102.114 121.741 99.8296C118.955 97.5455 115.463 96.2983 111.86 96.3005C109.817 96.299 107.793 96.701 105.905 97.4835C104.018 98.2661 102.303 99.4136 100.86 100.86Z\" fill=\"#00AEEF\"/>\n",
       "    </g>\n",
       "    <defs>\n",
       "        <clipPath id=\"clip0_4338_178347\">\n",
       "            <rect width=\"566.93\" height=\"223.75\" fill=\"white\"/>\n",
       "        </clipPath>\n",
       "    </defs>\n",
       "  </svg>\n",
       "</div>\n",
       "\n",
       "        <table class=\"jp-RenderedHTMLCommon\" style=\"border-collapse: collapse;color: var(--jp-ui-font-color1);font-size: var(--jp-ui-font-size1);\">\n",
       "    <tr>\n",
       "        <td style=\"text-align: left\"><b>Python version:</b></td>\n",
       "        <td style=\"text-align: left\"><b>3.11.9</b></td>\n",
       "    </tr>\n",
       "    <tr>\n",
       "        <td style=\"text-align: left\"><b>Ray version:</b></td>\n",
       "        <td style=\"text-align: left\"><b>2.31.0</b></td>\n",
       "    </tr>\n",
       "    <tr>\n",
       "    <td style=\"text-align: left\"><b>Dashboard:</b></td>\n",
       "    <td style=\"text-align: left\"><b><a href=\"http://127.0.0.1:8266\" target=\"_blank\">http://127.0.0.1:8266</a></b></td>\n",
       "</tr>\n",
       "\n",
       "</table>\n",
       "\n",
       "    </div>\n",
       "</div>\n"
      ],
      "text/plain": [
       "RayContext(dashboard_url='127.0.0.1:8266', python_version='3.11.9', ray_version='2.31.0', ray_commit='{{RAY_COMMIT_SHA}}')"
      ]
     },
     "execution_count": 7,
     "metadata": {},
     "output_type": "execute_result"
    }
   ],
   "source": [
    "ray_info"
   ]
  },
  {
   "cell_type": "code",
   "execution_count": 8,
   "id": "a79258f1-eea6-4799-af92-3978cd8a6b7e",
   "metadata": {},
   "outputs": [
    {
     "data": {
      "text/plain": [
       "{'node_ip_address': '169.255.255.2',\n",
       " 'raylet_ip_address': '169.255.255.2',\n",
       " 'redis_address': None,\n",
       " 'object_store_address': '/mnt/sagemaker-nvme/ray_temp/session_2024-10-01_03-23-35_034032_198/sockets/plasma_store',\n",
       " 'raylet_socket_name': '/mnt/sagemaker-nvme/ray_temp/session_2024-10-01_03-23-35_034032_198/sockets/raylet',\n",
       " 'webui_url': '127.0.0.1:8266',\n",
       " 'session_dir': '/mnt/sagemaker-nvme/ray_temp/session_2024-10-01_03-23-35_034032_198',\n",
       " 'metrics_export_port': 63359,\n",
       " 'gcs_address': '169.255.255.2:65190',\n",
       " 'address': '169.255.255.2:65190',\n",
       " 'dashboard_agent_listen_port': 52365,\n",
       " 'node_id': 'cecf40666f6153313db3c198c332407333e921c95bbd341491545d85'}"
      ]
     },
     "execution_count": 8,
     "metadata": {},
     "output_type": "execute_result"
    }
   ],
   "source": [
    "ray_info.address_info"
   ]
  },
  {
   "cell_type": "code",
   "execution_count": 9,
   "id": "fb15de18-a639-4662-8ae7-99af4f1691eb",
   "metadata": {},
   "outputs": [],
   "source": [
    "NVMe_PATH = '/mnt/sagemaker-nvme/'"
   ]
  },
  {
   "cell_type": "code",
   "execution_count": 10,
   "id": "edf69802-0e54-4885-988c-921e31a71a28",
   "metadata": {},
   "outputs": [],
   "source": [
    "# Creating folder for temp storage while fitting GridSearch\n",
    "! mkdir /mnt/sagemaker-nvme/tempGridSearch"
   ]
  },
  {
   "cell_type": "code",
   "execution_count": 45,
   "id": "1dcf8752-62d3-4540-9bc7-a09d5f2aa80a",
   "metadata": {},
   "outputs": [],
   "source": [
    "NVMe_PATH = '/mnt/sagemaker-nvme/'"
   ]
  },
  {
   "cell_type": "markdown",
   "id": "408bb2a8-f30b-4eb6-8852-d7cbb0cac6f7",
   "metadata": {},
   "source": [
    "# 2. Loading Processed data, and exploring the features:"
   ]
  },
  {
   "cell_type": "markdown",
   "id": "b2af7573-df1a-461c-9aac-d434f9afae90",
   "metadata": {},
   "source": [
    "## 2.1. Loading data:"
   ]
  },
  {
   "cell_type": "code",
   "execution_count": 12,
   "id": "02a08b18-8d62-4135-90b1-c0ec430f3405",
   "metadata": {},
   "outputs": [],
   "source": [
    "training_file_name = \"training_after_preproc.csv\"\n",
    "testing_file_name = \"testing_after_preproc.csv\""
   ]
  },
  {
   "cell_type": "code",
   "execution_count": 13,
   "id": "62166a97-8c66-4c3a-bdea-fab9a94a925b",
   "metadata": {},
   "outputs": [
    {
     "name": "stdout",
     "output_type": "stream",
     "text": [
      "/mnt/sagemaker-nvme/training_after_preproc.csv\n",
      "/mnt/sagemaker-nvme/testing_after_preproc.csv\n"
     ]
    }
   ],
   "source": [
    "NVMe_Training_file_Path = NVMe_PATH+training_file_name\n",
    "NVMe_Testing_file_Path = NVMe_PATH+testing_file_name\n",
    "\n",
    "print(NVMe_Training_file_Path)\n",
    "print(NVMe_Testing_file_Path)"
   ]
  },
  {
   "cell_type": "code",
   "execution_count": 14,
   "id": "0d44fb41-17fd-4fe3-8592-870752089576",
   "metadata": {
    "editable": true,
    "scrolled": true,
    "slideshow": {
     "slide_type": ""
    },
    "tags": []
   },
   "outputs": [
    {
     "name": "stdout",
     "output_type": "stream",
     "text": [
      "download: s3://melbahae-capstone/Datasets/training_after_preproc.csv to ../../../mnt/sagemaker-nvme/training_after_preproc.csv\n",
      "download: s3://melbahae-capstone/Datasets/testing_after_preproc.csv to ../../../mnt/sagemaker-nvme/testing_after_preproc.csv\n",
      "CPU times: user 12.4 s, sys: 10.5 s, total: 23 s\n",
      "Wall time: 2min 38s\n"
     ]
    }
   ],
   "source": [
    "%%time\n",
    "if os.path.exists(NVMe_Training_file_Path):\n",
    "    pass\n",
    "else:\n",
    "    !aws s3 cp s3://melbahae-capstone/Datasets/training_after_preproc.csv /mnt/sagemaker-nvme/\n",
    "\n",
    "if os.path.exists(NVMe_Testing_file_Path):\n",
    "    pass\n",
    "else:\n",
    "    !aws s3 cp s3://melbahae-capstone/Datasets/testing_after_preproc.csv /mnt/sagemaker-nvme/\n"
   ]
  },
  {
   "cell_type": "code",
   "execution_count": 15,
   "id": "42310036-c2e9-4e11-87fc-5caef00a7fa6",
   "metadata": {},
   "outputs": [
    {
     "name": "stdout",
     "output_type": "stream",
     "text": [
      "CPU times: user 30.7 s, sys: 27.9 s, total: 58.6 s\n",
      "Wall time: 1min 51s\n"
     ]
    }
   ],
   "source": [
    "%%time \n",
    "\n",
    "training_df = pd.read_csv(NVMe_Training_file_Path)"
   ]
  },
  {
   "cell_type": "code",
   "execution_count": 16,
   "id": "61ef3f14-b02e-47f6-8725-fe6b3cc6c93e",
   "metadata": {},
   "outputs": [
    {
     "name": "stdout",
     "output_type": "stream",
     "text": [
      "CPU times: user 12.1 s, sys: 12 s, total: 24.1 s\n",
      "Wall time: 43.3 s\n"
     ]
    }
   ],
   "source": [
    "%%time\n",
    "\n",
    "testing_df = pd.read_csv(NVMe_Testing_file_Path)"
   ]
  },
  {
   "cell_type": "code",
   "execution_count": 20,
   "id": "b7c9b48f-b2c3-46e4-9f8f-5fcc8c26995a",
   "metadata": {},
   "outputs": [
    {
     "name": "stdout",
     "output_type": "stream",
     "text": [
      "<class 'modin.pandas.dataframe.DataFrame'>\n",
      "RangeIndex: 50052497 entries, 0 to 50052496\n",
      "Columns: 160 entries, Total Fwd Packets to Protocol_UDP\n",
      "dtypes: bool(105), float64(47), int64(8)\n",
      "memory usage: 25.4 GB\n"
     ]
    }
   ],
   "source": [
    "training_df.info()"
   ]
  },
  {
   "cell_type": "code",
   "execution_count": 21,
   "id": "59a9dbac-a60d-4e22-a1f7-2ff2de3faf2e",
   "metadata": {},
   "outputs": [
    {
     "name": "stdout",
     "output_type": "stream",
     "text": [
      "<class 'modin.pandas.dataframe.DataFrame'>\n",
      "RangeIndex: 19963266 entries, 0 to 19963265\n",
      "Columns: 160 entries, Total Fwd Packets to Protocol_UDP\n",
      "dtypes: bool(105), float64(47), int64(8)\n",
      "memory usage: 10.1 GB\n"
     ]
    }
   ],
   "source": [
    "testing_df.info()"
   ]
  },
  {
   "cell_type": "markdown",
   "id": "85d58508-733a-4059-9eba-602223958db3",
   "metadata": {},
   "source": [
    "## 2.2. Checking the features and confirming their dtypes:"
   ]
  },
  {
   "cell_type": "code",
   "execution_count": 19,
   "id": "cd3a089f-2c87-4d7a-9c96-170f1d1abe02",
   "metadata": {},
   "outputs": [
    {
     "data": {
      "text/html": [
       "<div>\n",
       "<style scoped>\n",
       "    .dataframe tbody tr th:only-of-type {\n",
       "        vertical-align: middle;\n",
       "    }\n",
       "\n",
       "    .dataframe tbody tr th {\n",
       "        vertical-align: top;\n",
       "    }\n",
       "\n",
       "    .dataframe thead th {\n",
       "        text-align: right;\n",
       "    }\n",
       "</style>\n",
       "<table border=\"1\" class=\"dataframe\">\n",
       "  <thead>\n",
       "    <tr style=\"text-align: right;\">\n",
       "      <th></th>\n",
       "      <th>Total Fwd Packets</th>\n",
       "      <th>Total Backward Packets</th>\n",
       "      <th>Total Length of Fwd Packets</th>\n",
       "      <th>Total Length of Bwd Packets</th>\n",
       "      <th>Fwd Packet Length Max</th>\n",
       "      <th>Fwd Packet Length Min</th>\n",
       "      <th>Fwd Packet Length Mean</th>\n",
       "      <th>Fwd Packet Length Std</th>\n",
       "      <th>Bwd Packet Length Max</th>\n",
       "      <th>Bwd Packet Length Min</th>\n",
       "      <th>...</th>\n",
       "      <th>Source Port IANA Range_Registered</th>\n",
       "      <th>Source Port IANA Range_Dynamic/Private</th>\n",
       "      <th>Source Port IANA Range_Unknown</th>\n",
       "      <th>Destination Port IANA Range_Well-Known</th>\n",
       "      <th>Destination Port IANA Range_Registered</th>\n",
       "      <th>Destination Port IANA Range_Dynamic/Private</th>\n",
       "      <th>Destination Port IANA Range_Unknown</th>\n",
       "      <th>Protocol_HOPOPT</th>\n",
       "      <th>Protocol_TCP</th>\n",
       "      <th>Protocol_UDP</th>\n",
       "    </tr>\n",
       "  </thead>\n",
       "  <tbody>\n",
       "    <tr>\n",
       "      <th>0</th>\n",
       "      <td>2</td>\n",
       "      <td>0</td>\n",
       "      <td>766.0</td>\n",
       "      <td>0.0</td>\n",
       "      <td>383.0</td>\n",
       "      <td>383.0</td>\n",
       "      <td>383.0</td>\n",
       "      <td>0.0</td>\n",
       "      <td>0.0</td>\n",
       "      <td>0.0</td>\n",
       "      <td>...</td>\n",
       "      <td>False</td>\n",
       "      <td>True</td>\n",
       "      <td>False</td>\n",
       "      <td>False</td>\n",
       "      <td>True</td>\n",
       "      <td>False</td>\n",
       "      <td>False</td>\n",
       "      <td>False</td>\n",
       "      <td>False</td>\n",
       "      <td>True</td>\n",
       "    </tr>\n",
       "    <tr>\n",
       "      <th>1</th>\n",
       "      <td>2</td>\n",
       "      <td>0</td>\n",
       "      <td>778.0</td>\n",
       "      <td>0.0</td>\n",
       "      <td>389.0</td>\n",
       "      <td>389.0</td>\n",
       "      <td>389.0</td>\n",
       "      <td>0.0</td>\n",
       "      <td>0.0</td>\n",
       "      <td>0.0</td>\n",
       "      <td>...</td>\n",
       "      <td>True</td>\n",
       "      <td>False</td>\n",
       "      <td>False</td>\n",
       "      <td>False</td>\n",
       "      <td>True</td>\n",
       "      <td>False</td>\n",
       "      <td>False</td>\n",
       "      <td>False</td>\n",
       "      <td>False</td>\n",
       "      <td>True</td>\n",
       "    </tr>\n",
       "    <tr>\n",
       "      <th>2</th>\n",
       "      <td>2</td>\n",
       "      <td>0</td>\n",
       "      <td>750.0</td>\n",
       "      <td>0.0</td>\n",
       "      <td>375.0</td>\n",
       "      <td>375.0</td>\n",
       "      <td>375.0</td>\n",
       "      <td>0.0</td>\n",
       "      <td>0.0</td>\n",
       "      <td>0.0</td>\n",
       "      <td>...</td>\n",
       "      <td>True</td>\n",
       "      <td>False</td>\n",
       "      <td>False</td>\n",
       "      <td>False</td>\n",
       "      <td>True</td>\n",
       "      <td>False</td>\n",
       "      <td>False</td>\n",
       "      <td>False</td>\n",
       "      <td>False</td>\n",
       "      <td>True</td>\n",
       "    </tr>\n",
       "    <tr>\n",
       "      <th>3</th>\n",
       "      <td>2</td>\n",
       "      <td>0</td>\n",
       "      <td>738.0</td>\n",
       "      <td>0.0</td>\n",
       "      <td>369.0</td>\n",
       "      <td>369.0</td>\n",
       "      <td>369.0</td>\n",
       "      <td>0.0</td>\n",
       "      <td>0.0</td>\n",
       "      <td>0.0</td>\n",
       "      <td>...</td>\n",
       "      <td>False</td>\n",
       "      <td>True</td>\n",
       "      <td>False</td>\n",
       "      <td>False</td>\n",
       "      <td>True</td>\n",
       "      <td>False</td>\n",
       "      <td>False</td>\n",
       "      <td>False</td>\n",
       "      <td>False</td>\n",
       "      <td>True</td>\n",
       "    </tr>\n",
       "    <tr>\n",
       "      <th>4</th>\n",
       "      <td>2</td>\n",
       "      <td>0</td>\n",
       "      <td>750.0</td>\n",
       "      <td>0.0</td>\n",
       "      <td>375.0</td>\n",
       "      <td>375.0</td>\n",
       "      <td>375.0</td>\n",
       "      <td>0.0</td>\n",
       "      <td>0.0</td>\n",
       "      <td>0.0</td>\n",
       "      <td>...</td>\n",
       "      <td>False</td>\n",
       "      <td>True</td>\n",
       "      <td>False</td>\n",
       "      <td>False</td>\n",
       "      <td>False</td>\n",
       "      <td>True</td>\n",
       "      <td>False</td>\n",
       "      <td>False</td>\n",
       "      <td>False</td>\n",
       "      <td>True</td>\n",
       "    </tr>\n",
       "  </tbody>\n",
       "</table>\n",
       "<p>5 rows x 160 columns</p>\n",
       "</div>"
      ],
      "text/plain": [
       "   Total Fwd Packets  Total Backward Packets  Total Length of Fwd Packets  \\\n",
       "0                  2                       0                        766.0   \n",
       "1                  2                       0                        778.0   \n",
       "2                  2                       0                        750.0   \n",
       "3                  2                       0                        738.0   \n",
       "4                  2                       0                        750.0   \n",
       "\n",
       "   Total Length of Bwd Packets  Fwd Packet Length Max  Fwd Packet Length Min  \\\n",
       "0                          0.0                  383.0                  383.0   \n",
       "1                          0.0                  389.0                  389.0   \n",
       "2                          0.0                  375.0                  375.0   \n",
       "3                          0.0                  369.0                  369.0   \n",
       "4                          0.0                  375.0                  375.0   \n",
       "\n",
       "   Fwd Packet Length Mean  Fwd Packet Length Std  Bwd Packet Length Max  \\\n",
       "0                   383.0                    0.0                    0.0   \n",
       "1                   389.0                    0.0                    0.0   \n",
       "2                   375.0                    0.0                    0.0   \n",
       "3                   369.0                    0.0                    0.0   \n",
       "4                   375.0                    0.0                    0.0   \n",
       "\n",
       "   Bwd Packet Length Min  ...  Source Port IANA Range_Registered  \\\n",
       "0                    0.0  ...                              False   \n",
       "1                    0.0  ...                               True   \n",
       "2                    0.0  ...                               True   \n",
       "3                    0.0  ...                              False   \n",
       "4                    0.0  ...                              False   \n",
       "\n",
       "   Source Port IANA Range_Dynamic/Private  Source Port IANA Range_Unknown  \\\n",
       "0                                    True                           False   \n",
       "1                                   False                           False   \n",
       "2                                   False                           False   \n",
       "3                                    True                           False   \n",
       "4                                    True                           False   \n",
       "\n",
       "   Destination Port IANA Range_Well-Known  \\\n",
       "0                                   False   \n",
       "1                                   False   \n",
       "2                                   False   \n",
       "3                                   False   \n",
       "4                                   False   \n",
       "\n",
       "   Destination Port IANA Range_Registered  \\\n",
       "0                                    True   \n",
       "1                                    True   \n",
       "2                                    True   \n",
       "3                                    True   \n",
       "4                                   False   \n",
       "\n",
       "   Destination Port IANA Range_Dynamic/Private  \\\n",
       "0                                        False   \n",
       "1                                        False   \n",
       "2                                        False   \n",
       "3                                        False   \n",
       "4                                         True   \n",
       "\n",
       "   Destination Port IANA Range_Unknown  Protocol_HOPOPT  Protocol_TCP  \\\n",
       "0                                False            False         False   \n",
       "1                                False            False         False   \n",
       "2                                False            False         False   \n",
       "3                                False            False         False   \n",
       "4                                False            False         False   \n",
       "\n",
       "   Protocol_UDP  \n",
       "0          True  \n",
       "1          True  \n",
       "2          True  \n",
       "3          True  \n",
       "4          True  \n",
       "\n",
       "[5 rows x 160 columns]"
      ]
     },
     "execution_count": 19,
     "metadata": {},
     "output_type": "execute_result"
    }
   ],
   "source": [
    "training_df.head()"
   ]
  },
  {
   "cell_type": "code",
   "execution_count": 24,
   "id": "e86aa3e5-0620-4c68-b37c-13e4775c70c9",
   "metadata": {
    "scrolled": true
   },
   "outputs": [
    {
     "data": {
      "text/plain": [
       "Total Fwd Packets                int64\n",
       "Total Backward Packets           int64\n",
       "Total Length of Fwd Packets    float64\n",
       "Total Length of Bwd Packets    float64\n",
       "Fwd Packet Length Max          float64\n",
       "Fwd Packet Length Min          float64\n",
       "Fwd Packet Length Mean         float64\n",
       "Fwd Packet Length Std          float64\n",
       "Bwd Packet Length Max          float64\n",
       "Bwd Packet Length Min          float64\n",
       "Bwd Packet Length Mean         float64\n",
       "Bwd Packet Length Std          float64\n",
       "Flow Bytes/s                   float64\n",
       "Flow Packets/s                 float64\n",
       "Flow IAT Mean                  float64\n",
       "Flow IAT Std                   float64\n",
       "Flow IAT Max                   float64\n",
       "Flow IAT Min                   float64\n",
       "Fwd IAT Total                  float64\n",
       "Fwd IAT Mean                   float64\n",
       "Fwd IAT Std                    float64\n",
       "Fwd IAT Max                    float64\n",
       "Fwd IAT Min                    float64\n",
       "Bwd IAT Total                  float64\n",
       "Bwd IAT Mean                   float64\n",
       "Bwd IAT Std                    float64\n",
       "Bwd IAT Max                    float64\n",
       "Bwd IAT Min                    float64\n",
       "Fwd Header Length              float64\n",
       "Bwd Header Length              float64\n",
       "Fwd Packets/s                  float64\n",
       "Bwd Packets/s                  float64\n",
       "Min Packet Length              float64\n",
       "Max Packet Length              float64\n",
       "Packet Length Std              float64\n",
       "Packet Length Variance         float64\n",
       "SYN Flag Count                   int64\n",
       "RST Flag Count                   int64\n",
       "ACK Flag Count                   int64\n",
       "URG Flag Count                   int64\n",
       "CWE Flag Count                   int64\n",
       "Down/Up Ratio                  float64\n",
       "Average Packet Size            float64\n",
       "Init_Win_bytes_forward         float64\n",
       "Init_Win_bytes_backward        float64\n",
       "act_data_pkt_fwd                 int64\n",
       "min_seg_size_forward           float64\n",
       "Active Mean                    float64\n",
       "Active Std                     float64\n",
       "Active Max                     float64\n",
       "Active Min                     float64\n",
       "Idle Mean                      float64\n",
       "Idle Std                       float64\n",
       "Idle Max                       float64\n",
       "Idle Min                       float64\n",
       "Inbound                           bool\n",
       "is_attack                         bool\n",
       "Source IP Class_A                 bool\n",
       "Source IP Class_B                 bool\n",
       "Source IP Class_C                 bool\n",
       "dtype: object"
      ]
     },
     "execution_count": 24,
     "metadata": {},
     "output_type": "execute_result"
    }
   ],
   "source": [
    "training_df.dtypes[:60]"
   ]
  },
  {
   "cell_type": "code",
   "execution_count": 25,
   "id": "0e544849-7411-4a9a-9c44-048f0fb89c37",
   "metadata": {
    "scrolled": true
   },
   "outputs": [
    {
     "data": {
      "text/plain": [
       "Source IP Class_D                     bool\n",
       "Source IP Class_E                     bool\n",
       "Source IP Class_Unknown               bool\n",
       "Destination IP Class_A                bool\n",
       "Destination IP Class_B                bool\n",
       "Destination IP Class_C                bool\n",
       "Destination IP Class_D                bool\n",
       "Destination IP Class_E                bool\n",
       "Destination IP Class_Unknown          bool\n",
       "Source IP Reserved_Private            bool\n",
       "Source IP Reserved_Multicast          bool\n",
       "Source IP Reserved_Loopback           bool\n",
       "Source IP Reserved_Link-local         bool\n",
       "Source IP Reserved_Reserved           bool\n",
       "Source IP Reserved_Broadcast          bool\n",
       "Source IP Reserved_DHCP/Zeros         bool\n",
       "Source IP Reserved_Public             bool\n",
       "Destination IP Reserved_Private       bool\n",
       "Destination IP Reserved_Multicast     bool\n",
       "Destination IP Reserved_Loopback      bool\n",
       "Destination IP Reserved_Link-local    bool\n",
       "Destination IP Reserved_Reserved      bool\n",
       "Destination IP Reserved_Broadcast     bool\n",
       "Destination IP Reserved_DHCP/Zeros    bool\n",
       "Destination IP Reserved_Public        bool\n",
       "Source Port Binary_0                  bool\n",
       "Source Port Binary_1                  bool\n",
       "Source Port Binary_2                  bool\n",
       "Source Port Binary_3                  bool\n",
       "Source Port Binary_4                  bool\n",
       "Source Port Binary_5                  bool\n",
       "Source Port Binary_6                  bool\n",
       "Source Port Binary_7                  bool\n",
       "Source Port Binary_8                  bool\n",
       "Source Port Binary_9                  bool\n",
       "Source Port Binary_10                 bool\n",
       "Source Port Binary_11                 bool\n",
       "Source Port Binary_12                 bool\n",
       "Source Port Binary_13                 bool\n",
       "Source Port Binary_14                 bool\n",
       "Source Port Binary_15                 bool\n",
       "Destination Port Binary_0             bool\n",
       "Destination Port Binary_1             bool\n",
       "Destination Port Binary_2             bool\n",
       "Destination Port Binary_3             bool\n",
       "Destination Port Binary_4             bool\n",
       "Destination Port Binary_5             bool\n",
       "Destination Port Binary_6             bool\n",
       "Destination Port Binary_7             bool\n",
       "Destination Port Binary_8             bool\n",
       "Destination Port Binary_9             bool\n",
       "Destination Port Binary_10            bool\n",
       "Destination Port Binary_11            bool\n",
       "Destination Port Binary_12            bool\n",
       "Destination Port Binary_13            bool\n",
       "Destination Port Binary_14            bool\n",
       "Destination Port Binary_15            bool\n",
       "Source Port Category_DHCP             bool\n",
       "Source Port Category_DNS              bool\n",
       "Source Port Category_FTP              bool\n",
       "dtype: object"
      ]
     },
     "execution_count": 25,
     "metadata": {},
     "output_type": "execute_result"
    }
   ],
   "source": [
    "training_df.dtypes[60:120]"
   ]
  },
  {
   "cell_type": "code",
   "execution_count": 26,
   "id": "051d4f82-95ae-4b2e-9441-035c705bf581",
   "metadata": {
    "scrolled": true
   },
   "outputs": [
    {
     "data": {
      "text/plain": [
       "Source Port Category_HTTP                      bool\n",
       "Source Port Category_HTTP Alternate            bool\n",
       "Source Port Category_HTTPS                     bool\n",
       "Source Port Category_HTTPS Alternate           bool\n",
       "Source Port Category_MS SQL                    bool\n",
       "Source Port Category_MySQL                     bool\n",
       "Source Port Category_NTP                       bool\n",
       "Source Port Category_PostgreSQL                bool\n",
       "Source Port Category_RDP                       bool\n",
       "Source Port Category_SSH                       bool\n",
       "Source Port Category_TFTP                      bool\n",
       "Source Port Category_Zero                      bool\n",
       "Source Port Category_Others                    bool\n",
       "Destination Port Category_DHCP                 bool\n",
       "Destination Port Category_DNS                  bool\n",
       "Destination Port Category_FTP                  bool\n",
       "Destination Port Category_HTTP                 bool\n",
       "Destination Port Category_HTTP Alternate       bool\n",
       "Destination Port Category_HTTPS                bool\n",
       "Destination Port Category_HTTPS Alternate      bool\n",
       "Destination Port Category_MS SQL               bool\n",
       "Destination Port Category_MySQL                bool\n",
       "Destination Port Category_NTP                  bool\n",
       "Destination Port Category_PostgreSQL           bool\n",
       "Destination Port Category_RDP                  bool\n",
       "Destination Port Category_SSH                  bool\n",
       "Destination Port Category_TFTP                 bool\n",
       "Destination Port Category_Zero                 bool\n",
       "Destination Port Category_Others               bool\n",
       "Source Port IANA Range_Well-Known              bool\n",
       "Source Port IANA Range_Registered              bool\n",
       "Source Port IANA Range_Dynamic/Private         bool\n",
       "Source Port IANA Range_Unknown                 bool\n",
       "Destination Port IANA Range_Well-Known         bool\n",
       "Destination Port IANA Range_Registered         bool\n",
       "Destination Port IANA Range_Dynamic/Private    bool\n",
       "Destination Port IANA Range_Unknown            bool\n",
       "Protocol_HOPOPT                                bool\n",
       "Protocol_TCP                                   bool\n",
       "Protocol_UDP                                   bool\n",
       "dtype: object"
      ]
     },
     "execution_count": 26,
     "metadata": {},
     "output_type": "execute_result"
    }
   ],
   "source": [
    "training_df.dtypes[120:]"
   ]
  },
  {
   "cell_type": "code",
   "execution_count": 27,
   "id": "79683a26-870e-4ac8-90e9-635cc479bd81",
   "metadata": {},
   "outputs": [
    {
     "data": {
      "text/plain": [
       "(0, 0)"
      ]
     },
     "execution_count": 27,
     "metadata": {},
     "output_type": "execute_result"
    }
   ],
   "source": [
    "( training_df.isnull().sum().sum(), training_df.isnull().sum().sum() )"
   ]
  },
  {
   "cell_type": "code",
   "execution_count": 28,
   "id": "2c938bf8-84fd-4263-8080-d5511e479e63",
   "metadata": {
    "scrolled": true
   },
   "outputs": [
    {
     "name": "stderr",
     "output_type": "stream",
     "text": [
      "UserWarning: `df.groupby(categorical_by, sort=False)` implementation has mismatches with pandas:\n",
      "the groupby keys will be sorted anyway, although the 'sort=False' was passed. See the following issue for more details: https://github.com/modin-project/modin/issues/3571.\n"
     ]
    },
    {
     "data": {
      "text/plain": [
       "(is_attack\n",
       " True     49995744\n",
       " False       56753\n",
       " Name: count, dtype: int64,\n",
       " is_attack\n",
       " True     19910729\n",
       " False       52537\n",
       " Name: count, dtype: int64)"
      ]
     },
     "execution_count": 28,
     "metadata": {},
     "output_type": "execute_result"
    }
   ],
   "source": [
    "training_df[\"is_attack\"].value_counts() , testing_df[\"is_attack\"].value_counts()"
   ]
  },
  {
   "cell_type": "code",
   "execution_count": 29,
   "id": "3cf78df7-55bf-46d3-aa8e-e2ae6db41071",
   "metadata": {},
   "outputs": [
    {
     "data": {
      "text/plain": [
       "(is_attack\n",
       " True     0.998866\n",
       " False    0.001134\n",
       " Name: proportion, dtype: float64,\n",
       " is_attack\n",
       " True     0.997368\n",
       " False    0.002632\n",
       " Name: proportion, dtype: float64)"
      ]
     },
     "execution_count": 29,
     "metadata": {},
     "output_type": "execute_result"
    }
   ],
   "source": [
    "# Checking the ratio of benign traffic to attack traffic:\n",
    "\n",
    "\n",
    "training_df[\"is_attack\"].value_counts(normalize=True) , testing_df[\"is_attack\"].value_counts(normalize=True)"
   ]
  },
  {
   "cell_type": "markdown",
   "id": "414845b0-5ee3-417c-9f11-b82602307c23",
   "metadata": {},
   "source": [
    "## 2.3. Dropping columns with single value:"
   ]
  },
  {
   "cell_type": "code",
   "execution_count": 27,
   "id": "c8b26c93-2b08-49c0-85c9-655450946e4b",
   "metadata": {},
   "outputs": [
    {
     "name": "stdout",
     "output_type": "stream",
     "text": [
      "CPU times: user 18.4 s, sys: 2.4 s, total: 20.8 s\n",
      "Wall time: 1min 8s\n"
     ]
    }
   ],
   "source": [
    "%%time\n",
    "# Checking for columns with single value in training_df:\n",
    "\n",
    "single_value_cols = [col for col in training_df.columns if training_df[col].nunique() <= 1]"
   ]
  },
  {
   "cell_type": "code",
   "execution_count": 28,
   "id": "1690027f-ce68-4cf9-a973-135e3176dbd4",
   "metadata": {
    "scrolled": true
   },
   "outputs": [
    {
     "data": {
      "text/plain": [
       "['Source IP Class_D',\n",
       " 'Source IP Class_E',\n",
       " 'Destination IP Class_Unknown',\n",
       " 'Source IP Reserved_Multicast',\n",
       " 'Source IP Reserved_Loopback',\n",
       " 'Source IP Reserved_Link-local',\n",
       " 'Source IP Reserved_Reserved',\n",
       " 'Source IP Reserved_Broadcast',\n",
       " 'Source IP Reserved_DHCP/Zeros',\n",
       " 'Destination IP Reserved_Loopback',\n",
       " 'Destination IP Reserved_Link-local',\n",
       " 'Destination IP Reserved_Reserved',\n",
       " 'Destination IP Reserved_Broadcast',\n",
       " 'Destination IP Reserved_DHCP/Zeros',\n",
       " 'Source Port Category_FTP',\n",
       " 'Source Port Category_MS SQL',\n",
       " 'Source Port Category_MySQL',\n",
       " 'Source Port IANA Range_Unknown',\n",
       " 'Destination Port IANA Range_Unknown']"
      ]
     },
     "execution_count": 28,
     "metadata": {},
     "output_type": "execute_result"
    }
   ],
   "source": [
    "single_value_cols"
   ]
  },
  {
   "cell_type": "code",
   "execution_count": 29,
   "id": "e1641cb7-d8ac-4807-86d5-3532669cba14",
   "metadata": {},
   "outputs": [
    {
     "data": {
      "text/plain": [
       "((50052497, 141), (19963266, 141))"
      ]
     },
     "execution_count": 29,
     "metadata": {},
     "output_type": "execute_result"
    }
   ],
   "source": [
    "# dropping common_cols from training and testing datasets:\n",
    "\n",
    "training_df = training_df.drop(columns=single_value_cols)\n",
    "testing_df = testing_df.drop(columns=single_value_cols)\n",
    "(training_df.shape, testing_df.shape)"
   ]
  },
  {
   "cell_type": "code",
   "execution_count": 30,
   "id": "1f2b1f70-9763-4392-a13e-16ef8529149f",
   "metadata": {},
   "outputs": [
    {
     "name": "stdout",
     "output_type": "stream",
     "text": [
      "<class 'modin.pandas.dataframe.DataFrame'>\n",
      "RangeIndex: 50052497 entries, 0 to 50052496\n",
      "Columns: 141 entries, Total Fwd Packets to Protocol_UDP\n",
      "dtypes: bool(86), float32(20), float64(27), int16(2), int32(1), int8(5)\n",
      "memory usage: 16.0 GB\n",
      "<class 'modin.pandas.dataframe.DataFrame'>\n",
      "RangeIndex: 19963266 entries, 0 to 19963265\n",
      "Columns: 141 entries, Total Fwd Packets to Protocol_UDP\n",
      "dtypes: bool(86), float32(18), float64(29), int16(2), int32(1), int8(5)\n",
      "memory usage: 6.5 GB\n"
     ]
    },
    {
     "data": {
      "text/plain": [
       "(None, None)"
      ]
     },
     "execution_count": 30,
     "metadata": {},
     "output_type": "execute_result"
    }
   ],
   "source": [
    "training_df.info(), testing_df.info()"
   ]
  },
  {
   "cell_type": "markdown",
   "id": "b05bf027-d0f0-46d2-84b3-808512a20c0a",
   "metadata": {},
   "source": [
    "## 2.5. Converting bool columns to integer"
   ]
  },
  {
   "cell_type": "code",
   "execution_count": 31,
   "id": "5850fbdb-ccb2-467c-b94a-9151e57cf316",
   "metadata": {},
   "outputs": [],
   "source": [
    "# Converting bool columns to integer\n",
    "train_bool_cols = training_df.select_dtypes(include=['bool']).columns\n",
    "training_df[train_bool_cols] = training_df[train_bool_cols].astype(int)\n",
    "\n",
    "testing_bool_cols = testing_df.select_dtypes(include=['bool']).columns\n",
    "testing_df[train_bool_cols] = testing_df[train_bool_cols].astype(int)"
   ]
  },
  {
   "cell_type": "markdown",
   "id": "77f2918d-fd25-4491-b88c-7725c66c4e67",
   "metadata": {},
   "source": [
    "# 3. Training Decision Tree Model:"
   ]
  },
  {
   "cell_type": "markdown",
   "id": "5482cbf6-8b5b-4e25-87df-8fccf4daeccc",
   "metadata": {},
   "source": [
    "The boolean values in the Modin dataframe reporting issues with scikit library. Therfore converting them back to Integer. "
   ]
  },
  {
   "cell_type": "markdown",
   "id": "f5f5aa3e-6cc3-4242-99c8-30a806296f32",
   "metadata": {},
   "source": [
    "### Addressing Imbalanced data through two main techniques:\n",
    "\n",
    "- Scoring Metrics: Choosing scoring metrics to measure model's performance on that are not skewed by the imbalanced classes, or wiegh the minority class.\n",
    "    - **Precision:** as it includes FP.\n",
    "    - **F1_macro:** standard F1, better for imbalanaced data.\n",
    "    - **Flase Positive Rate:** The most important metric in our case, to check the check the number of benign traffic classified as Attack traffic. \n",
    "\n",
    "- Class Wieght:\n",
    "\n",
    "    - \"balanced\" approach:\n",
    "        weight for class= n_samples / ( n_classes x n_samples_per_class )\n",
    "  "
   ]
  },
  {
   "cell_type": "markdown",
   "id": "0c5c0731-8f5b-453d-b673-ede2e0de78b2",
   "metadata": {},
   "source": [
    "## 3.2. Creating scoring function for FPR and TPR:"
   ]
  },
  {
   "cell_type": "code",
   "execution_count": 32,
   "id": "2236d749-2dfc-4019-9e9e-4020acff80ae",
   "metadata": {},
   "outputs": [],
   "source": [
    "# Custom scoring function for False Positive Rate (FPR)\n",
    "def false_positive_rate(y_true, y_pred):\n",
    "    tn, fp, fn, tp = confusion_matrix(y_true, y_pred).ravel()\n",
    "    fpr = fp / (fp + tn)  # False Positive Rate calculation\n",
    "    return fpr\n",
    "\n",
    "# Wrap the custom FPR function with make_scorer\n",
    "fpr_scorer = make_scorer(false_positive_rate, greater_is_better=False)"
   ]
  },
  {
   "cell_type": "code",
   "execution_count": 33,
   "id": "20cfc88d-7bb5-4f8a-a911-7ace17bce6d7",
   "metadata": {},
   "outputs": [],
   "source": [
    "# Define custom function for True Positive Rate (TPR)\n",
    "def true_positive_rate(y_true, y_pred):\n",
    "    tn, fp, fn, tp = confusion_matrix(y_true, y_pred).ravel()\n",
    "    tpr = tp / (tp + fn)\n",
    "    return tpr\n",
    "tpr_scorer = make_scorer(true_positive_rate, greater_is_better=True) "
   ]
  },
  {
   "cell_type": "code",
   "execution_count": 34,
   "id": "4a139c67-d699-4856-853c-a0433739bb7c",
   "metadata": {},
   "outputs": [],
   "source": [
    "SCORING = {\n",
    "    'precision': 'precision',           \n",
    "    'f1': 'f1',                          # Weighted F1 scorer, gives more importance to majority class. Not used.\n",
    "    'f1_macro': 'f1_macro',              # Macro/Standard F1, gives equal weigtht to each class, regardless of the number of instances in each class.\n",
    "    'accuracy': 'accuracy',\t\t\t\t # Accuracy\n",
    "    'false_positive_rate': fpr_scorer,\t # FP Rate scorer\n",
    "    'tpr': tpr_scorer,                   # TP Rate scorer\n",
    "}\n",
    "\n",
    "REFIT = \"false_positive_rate\""
   ]
  },
  {
   "cell_type": "markdown",
   "id": "2defa6c6-7514-41b0-b114-a76acfd3e030",
   "metadata": {},
   "source": [
    "## 3.3. Function to train DT with different Parameters:"
   ]
  },
  {
   "cell_type": "code",
   "execution_count": 48,
   "id": "09f2061b-9948-4289-a45e-a5cf2b6b3584",
   "metadata": {},
   "outputs": [],
   "source": [
    "from ray.util.joblib import register_ray"
   ]
  },
  {
   "cell_type": "code",
   "execution_count": 49,
   "id": "3f42efd1-b5a5-4928-a04a-6fa3f99b5d41",
   "metadata": {},
   "outputs": [],
   "source": [
    "# Register Ray with joblib for parallelism\n",
    "register_ray()"
   ]
  },
  {
   "cell_type": "code",
   "execution_count": 50,
   "id": "c43cff02-ad57-4177-a30d-b640c80d320f",
   "metadata": {},
   "outputs": [],
   "source": [
    "def split_train_test_df(train_df, test_df):\n",
    "    X_train = train_df.drop(\"is_attack\", axis=1)\n",
    "    y_train = train_df['is_attack']\n",
    "    \n",
    "    X_test = test_df.drop(\"is_attack\", axis=1)\n",
    "    y_test = test_df[\"is_attack\"]\n",
    "\n",
    "    return X_train, y_train, X_test, y_test\n",
    "\n",
    "\n",
    "def train_grid_search(X_train, y_train,param_grid, n_jobs=5):\n",
    "    temp_dir = '/mnt/sagemaker-nvme/'\n",
    "    # Initialize Decision Tree\n",
    "    dt_model = DecisionTreeClassifier(\n",
    "        criterion=\"entropy\", # choosing entropy as the dataset is imbalanced.\n",
    "        random_state=42\n",
    "    )\n",
    "\n",
    "    # GridSearchCV with parallel processing with n_jobs\n",
    "    grid_search = GridSearchCV(estimator=dt_model, \n",
    "                               param_grid=param_grid, \n",
    "                               cv=3, \n",
    "                               scoring=SCORING,\n",
    "                               refit = REFIT,\n",
    "                               n_jobs=n_jobs,\n",
    "                               verbose=2,\n",
    "                              ) \n",
    "    if n_jobs > 1:\n",
    "        # Use the 'ray' backend only when parallelism is needed\n",
    "        with joblib.parallel_config(backend=\"ray\", verbose=1, temp_dir=\"/mnt/sagemaker-nvme/tempGridSearch\"):\n",
    "            return grid_search.fit(X_train, y_train)\n",
    "    else:\n",
    "        # Avoiding ray if number of jobs=1 as it lead the gridsearch to stuck after completion.\n",
    "        return grid_search.fit(X_train, y_train)"
   ]
  },
  {
   "cell_type": "markdown",
   "id": "2ea0c6a9-bbc7-42ef-ba8c-2a8cd685c05f",
   "metadata": {},
   "source": [
    "## 3.4. Evaluating Top parameters on a subset of data:"
   ]
  },
  {
   "cell_type": "markdown",
   "id": "33601812-048e-4da8-9da0-cec08631e44f",
   "metadata": {},
   "source": [
    "Using a smaller version of the dataset to evaluate check the most optimum hyperparameters to chose top three from to train on the full dataset."
   ]
  },
  {
   "cell_type": "markdown",
   "id": "9f5ec2ea-ecaf-41bd-9601-0282dca2d290",
   "metadata": {},
   "source": [
    "### 3.4.1. Splitting the data and Traning models:"
   ]
  },
  {
   "cell_type": "code",
   "execution_count": 38,
   "id": "0687e1a2-9534-4200-9a78-7aa0423559cd",
   "metadata": {},
   "outputs": [],
   "source": [
    "# Taking a sample from Training and testing data:\n",
    "\n",
    "train_sample = training_df.sample(frac=0.1, random_state=42)\n",
    "test_sample = testing_df.sample(frac=0.1, random_state=42)\n",
    "\n",
    "X_train, y_train, X_test, y_test = split_train_test_df(train_sample, test_sample)"
   ]
  },
  {
   "cell_type": "code",
   "execution_count": 47,
   "id": "1753eca4-db2a-4734-9fb0-89ceb44a9e2d",
   "metadata": {},
   "outputs": [
    {
     "data": {
      "text/plain": [
       "((5005250, 140), (5005250,), (1996327, 140), (1996327,))"
      ]
     },
     "execution_count": 47,
     "metadata": {},
     "output_type": "execute_result"
    }
   ],
   "source": [
    "X_train.shape, y_train.shape, X_test.shape, y_test.shape"
   ]
  },
  {
   "cell_type": "code",
   "execution_count": 27,
   "id": "5dd7aa59-7f46-4d78-882a-59616bf0ec0d",
   "metadata": {},
   "outputs": [
    {
     "data": {
      "text/plain": [
       "((50052497, 140), (50052497,), (19963266, 140), (19963266,))"
      ]
     },
     "execution_count": 27,
     "metadata": {},
     "output_type": "execute_result"
    }
   ],
   "source": [
    "X_train.shape, y_train.shape, X_test.shape, y_test.shape"
   ]
  },
  {
   "cell_type": "code",
   "execution_count": 48,
   "id": "ff5588a2-6b14-4bc5-957a-9ef75d7ea8e2",
   "metadata": {},
   "outputs": [
    {
     "name": "stdout",
     "output_type": "stream",
     "text": [
      "Fitting 3 folds for each of 54 candidates, totalling 162 fits\n",
      "CPU times: user 1min 9s, sys: 5.89 s, total: 1min 14s\n",
      "Wall time: 23min 5s\n"
     ]
    }
   ],
   "source": [
    "%%time\n",
    "param_grid = {\n",
    "    'max_depth': [None, 10, 20,],\n",
    "    'min_samples_split': [2, 10, 20],\n",
    "    'min_samples_leaf': [1, 5, 10],\n",
    "    'class_weight': [None, 'balanced']\n",
    "}\n",
    "fitted_grid_search = train_grid_search(X_train, y_train, param_grid)"
   ]
  },
  {
   "cell_type": "markdown",
   "id": "5d6cadf7-b802-4e21-94c8-593569167c18",
   "metadata": {},
   "source": [
    "### 3.4.2. Checking the results"
   ]
  },
  {
   "cell_type": "code",
   "execution_count": 49,
   "id": "8fdd5e45-de03-491b-a4c0-70d20b9d0a2d",
   "metadata": {},
   "outputs": [
    {
     "name": "stdout",
     "output_type": "stream",
     "text": [
      "Decision Tree Model Accuracy: 1.0\n",
      "              precision    recall  f1-score   support\n",
      "\n",
      "           0       1.00      1.00      1.00      5288\n",
      "           1       1.00      1.00      1.00   1991039\n",
      "\n",
      "    accuracy                           1.00   1996327\n",
      "   macro avg       1.00      1.00      1.00   1996327\n",
      "weighted avg       1.00      1.00      1.00   1996327\n",
      "\n"
     ]
    }
   ],
   "source": [
    "# Use the best model found by GridSearchCV for predictions\n",
    "best_dt_model = fitted_grid_search.best_estimator_\n",
    "\n",
    "# Predict using test data\n",
    "y_pred_dt = best_dt_model.predict(X_test)\n",
    "\n",
    "# Print accuracy and classification report\n",
    "print(\"Decision Tree Model Accuracy:\", accuracy_score(y_test, y_pred_dt))\n",
    "print(classification_report(y_test, y_pred_dt)"
   ]
  },
  {
   "cell_type": "code",
   "execution_count": 50,
   "id": "a9f51385-d2eb-43c6-be3e-f6af8859f25e",
   "metadata": {},
   "outputs": [],
   "source": [
    "# Convert cv_results_ into a DataFrame for easier manipulation\n",
    "\n",
    "cv_results_df = pd.DataFrame(fitted_grid_search.cv_results_)"
   ]
  },
  {
   "cell_type": "code",
   "execution_count": 52,
   "id": "bbbc5a02-673a-4f4f-b0a8-230586c15cbf",
   "metadata": {},
   "outputs": [
    {
     "data": {
      "text/plain": [
       "Index(['mean_fit_time', 'std_fit_time', 'mean_score_time', 'std_score_time',\n",
       "       'param_class_weight', 'param_max_depth', 'param_min_samples_leaf',\n",
       "       'param_min_samples_split', 'params', 'split0_test_precision',\n",
       "       'split1_test_precision', 'split2_test_precision', 'mean_test_precision',\n",
       "       'std_test_precision', 'rank_test_precision', 'split0_test_f1',\n",
       "       'split1_test_f1', 'split2_test_f1', 'mean_test_f1', 'std_test_f1',\n",
       "       'rank_test_f1', 'split0_test_f1_macro', 'split1_test_f1_macro',\n",
       "       'split2_test_f1_macro', 'mean_test_f1_macro', 'std_test_f1_macro',\n",
       "       'rank_test_f1_macro', 'split0_test_accuracy', 'split1_test_accuracy',\n",
       "       'split2_test_accuracy', 'mean_test_accuracy', 'std_test_accuracy',\n",
       "       'rank_test_accuracy', 'split0_test_false_positive_rate',\n",
       "       'split1_test_false_positive_rate', 'split2_test_false_positive_rate',\n",
       "       'mean_test_false_positive_rate', 'std_test_false_positive_rate',\n",
       "       'rank_test_false_positive_rate', 'split0_test_tpr', 'split1_test_tpr',\n",
       "       'split2_test_tpr', 'mean_test_tpr', 'std_test_tpr', 'rank_test_tpr'],\n",
       "      dtype='object')"
      ]
     },
     "execution_count": 52,
     "metadata": {},
     "output_type": "execute_result"
    }
   ],
   "source": [
    "cv_results_df.columns"
   ]
  },
  {
   "cell_type": "code",
   "execution_count": 53,
   "id": "2aff1319-5a50-42f2-93ca-55e8502558be",
   "metadata": {},
   "outputs": [],
   "source": [
    "# Backing up CV Results:\n",
    "\n",
    "cv_results_df.to_csv(\"Datasets/DT_CV_Result.csv\", index=False)"
   ]
  },
  {
   "cell_type": "code",
   "execution_count": 116,
   "id": "c7804c49-ca20-4b61-880d-0ff05a44dce3",
   "metadata": {},
   "outputs": [],
   "source": [
    "#  Loading it in case of Kernel restart\n",
    "# cv_results_df = pd.read_csv(\"Datasets/DT_CV_Result.csv\")"
   ]
  },
  {
   "cell_type": "code",
   "execution_count": 140,
   "id": "8c31d38b-a23f-4559-8906-523fe2cfdafc",
   "metadata": {},
   "outputs": [],
   "source": [
    "# Filling null values under param_max_depth with None:\n",
    "\n",
    "cv_results_df['param_max_depth']  = cv_results_df['param_max_depth'].astype(str)\n",
    "# Changing specified columns to category type\n",
    "cv_results_df[['param_class_weight', 'param_max_depth', 'param_min_samples_leaf', 'param_min_samples_split']] = cv_results_df[['param_class_weight', 'param_max_depth', 'param_min_samples_leaf', 'param_min_samples_split']].astype('category')\n",
    "\n",
    "cv_results_df['mean_test_false_positive_rate'] = cv_results_df['mean_test_false_positive_rate'] * -1"
   ]
  },
  {
   "cell_type": "code",
   "execution_count": 128,
   "id": "f6cab9e5-5fd3-4d21-bb80-292e705c84a3",
   "metadata": {},
   "outputs": [
    {
     "data": {
      "text/html": [
       "<div>\n",
       "<style scoped>\n",
       "    .dataframe tbody tr th:only-of-type {\n",
       "        vertical-align: middle;\n",
       "    }\n",
       "\n",
       "    .dataframe tbody tr th {\n",
       "        vertical-align: top;\n",
       "    }\n",
       "\n",
       "    .dataframe thead th {\n",
       "        text-align: right;\n",
       "    }\n",
       "</style>\n",
       "<table border=\"1\" class=\"dataframe\">\n",
       "  <thead>\n",
       "    <tr style=\"text-align: right;\">\n",
       "      <th></th>\n",
       "      <th>mean_fit_time</th>\n",
       "      <th>std_fit_time</th>\n",
       "      <th>mean_score_time</th>\n",
       "      <th>std_score_time</th>\n",
       "      <th>param_class_weight</th>\n",
       "      <th>param_max_depth</th>\n",
       "      <th>param_min_samples_leaf</th>\n",
       "      <th>param_min_samples_split</th>\n",
       "      <th>params</th>\n",
       "      <th>split0_test_precision</th>\n",
       "      <th>...</th>\n",
       "      <th>split2_test_false_positive_rate</th>\n",
       "      <th>mean_test_false_positive_rate</th>\n",
       "      <th>std_test_false_positive_rate</th>\n",
       "      <th>rank_test_false_positive_rate</th>\n",
       "      <th>split0_test_tpr</th>\n",
       "      <th>split1_test_tpr</th>\n",
       "      <th>split2_test_tpr</th>\n",
       "      <th>mean_test_tpr</th>\n",
       "      <th>std_test_tpr</th>\n",
       "      <th>rank_test_tpr</th>\n",
       "    </tr>\n",
       "  </thead>\n",
       "  <tbody>\n",
       "    <tr>\n",
       "      <th>0</th>\n",
       "      <td>31.433848</td>\n",
       "      <td>0.256634</td>\n",
       "      <td>2.006478</td>\n",
       "      <td>0.018744</td>\n",
       "      <td>NaN</td>\n",
       "      <td>nan</td>\n",
       "      <td>1</td>\n",
       "      <td>2</td>\n",
       "      <td>{'class_weight': None, 'max_depth': None, 'min...</td>\n",
       "      <td>1.0</td>\n",
       "      <td>...</td>\n",
       "      <td>-0.0</td>\n",
       "      <td>-0.0</td>\n",
       "      <td>0.0</td>\n",
       "      <td>1</td>\n",
       "      <td>1.0</td>\n",
       "      <td>1.0</td>\n",
       "      <td>1.0</td>\n",
       "      <td>1.0</td>\n",
       "      <td>0.0</td>\n",
       "      <td>1</td>\n",
       "    </tr>\n",
       "    <tr>\n",
       "      <th>1</th>\n",
       "      <td>31.480416</td>\n",
       "      <td>0.061726</td>\n",
       "      <td>2.019390</td>\n",
       "      <td>0.046413</td>\n",
       "      <td>NaN</td>\n",
       "      <td>nan</td>\n",
       "      <td>1</td>\n",
       "      <td>10</td>\n",
       "      <td>{'class_weight': None, 'max_depth': None, 'min...</td>\n",
       "      <td>1.0</td>\n",
       "      <td>...</td>\n",
       "      <td>-0.0</td>\n",
       "      <td>-0.0</td>\n",
       "      <td>0.0</td>\n",
       "      <td>1</td>\n",
       "      <td>1.0</td>\n",
       "      <td>1.0</td>\n",
       "      <td>1.0</td>\n",
       "      <td>1.0</td>\n",
       "      <td>0.0</td>\n",
       "      <td>1</td>\n",
       "    </tr>\n",
       "    <tr>\n",
       "      <th>2</th>\n",
       "      <td>31.475637</td>\n",
       "      <td>0.465655</td>\n",
       "      <td>2.026297</td>\n",
       "      <td>0.040672</td>\n",
       "      <td>NaN</td>\n",
       "      <td>nan</td>\n",
       "      <td>1</td>\n",
       "      <td>20</td>\n",
       "      <td>{'class_weight': None, 'max_depth': None, 'min...</td>\n",
       "      <td>1.0</td>\n",
       "      <td>...</td>\n",
       "      <td>-0.0</td>\n",
       "      <td>-0.0</td>\n",
       "      <td>0.0</td>\n",
       "      <td>1</td>\n",
       "      <td>1.0</td>\n",
       "      <td>1.0</td>\n",
       "      <td>1.0</td>\n",
       "      <td>1.0</td>\n",
       "      <td>0.0</td>\n",
       "      <td>1</td>\n",
       "    </tr>\n",
       "    <tr>\n",
       "      <th>3</th>\n",
       "      <td>31.824487</td>\n",
       "      <td>0.174390</td>\n",
       "      <td>2.005208</td>\n",
       "      <td>0.033734</td>\n",
       "      <td>NaN</td>\n",
       "      <td>nan</td>\n",
       "      <td>5</td>\n",
       "      <td>2</td>\n",
       "      <td>{'class_weight': None, 'max_depth': None, 'min...</td>\n",
       "      <td>1.0</td>\n",
       "      <td>...</td>\n",
       "      <td>-0.0</td>\n",
       "      <td>-0.0</td>\n",
       "      <td>0.0</td>\n",
       "      <td>1</td>\n",
       "      <td>1.0</td>\n",
       "      <td>1.0</td>\n",
       "      <td>1.0</td>\n",
       "      <td>1.0</td>\n",
       "      <td>0.0</td>\n",
       "      <td>1</td>\n",
       "    </tr>\n",
       "    <tr>\n",
       "      <th>4</th>\n",
       "      <td>31.704158</td>\n",
       "      <td>0.549392</td>\n",
       "      <td>2.027495</td>\n",
       "      <td>0.025215</td>\n",
       "      <td>NaN</td>\n",
       "      <td>nan</td>\n",
       "      <td>5</td>\n",
       "      <td>10</td>\n",
       "      <td>{'class_weight': None, 'max_depth': None, 'min...</td>\n",
       "      <td>1.0</td>\n",
       "      <td>...</td>\n",
       "      <td>-0.0</td>\n",
       "      <td>-0.0</td>\n",
       "      <td>0.0</td>\n",
       "      <td>1</td>\n",
       "      <td>1.0</td>\n",
       "      <td>1.0</td>\n",
       "      <td>1.0</td>\n",
       "      <td>1.0</td>\n",
       "      <td>0.0</td>\n",
       "      <td>1</td>\n",
       "    </tr>\n",
       "  </tbody>\n",
       "</table>\n",
       "<p>5 rows × 45 columns</p>\n",
       "</div>"
      ],
      "text/plain": [
       "   mean_fit_time  std_fit_time  mean_score_time  std_score_time  \\\n",
       "0      31.433848      0.256634         2.006478        0.018744   \n",
       "1      31.480416      0.061726         2.019390        0.046413   \n",
       "2      31.475637      0.465655         2.026297        0.040672   \n",
       "3      31.824487      0.174390         2.005208        0.033734   \n",
       "4      31.704158      0.549392         2.027495        0.025215   \n",
       "\n",
       "  param_class_weight param_max_depth  param_min_samples_leaf  \\\n",
       "0                NaN             nan                       1   \n",
       "1                NaN             nan                       1   \n",
       "2                NaN             nan                       1   \n",
       "3                NaN             nan                       5   \n",
       "4                NaN             nan                       5   \n",
       "\n",
       "   param_min_samples_split                                             params  \\\n",
       "0                        2  {'class_weight': None, 'max_depth': None, 'min...   \n",
       "1                       10  {'class_weight': None, 'max_depth': None, 'min...   \n",
       "2                       20  {'class_weight': None, 'max_depth': None, 'min...   \n",
       "3                        2  {'class_weight': None, 'max_depth': None, 'min...   \n",
       "4                       10  {'class_weight': None, 'max_depth': None, 'min...   \n",
       "\n",
       "   split0_test_precision  ...  split2_test_false_positive_rate  \\\n",
       "0                    1.0  ...                             -0.0   \n",
       "1                    1.0  ...                             -0.0   \n",
       "2                    1.0  ...                             -0.0   \n",
       "3                    1.0  ...                             -0.0   \n",
       "4                    1.0  ...                             -0.0   \n",
       "\n",
       "   mean_test_false_positive_rate  std_test_false_positive_rate  \\\n",
       "0                           -0.0                           0.0   \n",
       "1                           -0.0                           0.0   \n",
       "2                           -0.0                           0.0   \n",
       "3                           -0.0                           0.0   \n",
       "4                           -0.0                           0.0   \n",
       "\n",
       "   rank_test_false_positive_rate  split0_test_tpr  split1_test_tpr  \\\n",
       "0                              1              1.0              1.0   \n",
       "1                              1              1.0              1.0   \n",
       "2                              1              1.0              1.0   \n",
       "3                              1              1.0              1.0   \n",
       "4                              1              1.0              1.0   \n",
       "\n",
       "   split2_test_tpr  mean_test_tpr  std_test_tpr  rank_test_tpr  \n",
       "0              1.0            1.0           0.0              1  \n",
       "1              1.0            1.0           0.0              1  \n",
       "2              1.0            1.0           0.0              1  \n",
       "3              1.0            1.0           0.0              1  \n",
       "4              1.0            1.0           0.0              1  \n",
       "\n",
       "[5 rows x 45 columns]"
      ]
     },
     "execution_count": 128,
     "metadata": {},
     "output_type": "execute_result"
    }
   ],
   "source": [
    "cv_results_df.head()"
   ]
  },
  {
   "cell_type": "code",
   "execution_count": 123,
   "id": "0e0d3372-59c3-4f90-b050-147f92d709cb",
   "metadata": {},
   "outputs": [
    {
     "data": {
      "image/png": "[encoded data removed]",
      "text/plain": [
       "<Figure size 1000x600 with 1 Axes>"
      ]
     },
     "metadata": {},
     "output_type": "display_data"
    }
   ],
   "source": [
    "\n",
    "# Grouping by Max Depth and averaging F1 Macro values\n",
    "df_grouped = cv_results_df.groupby('param_max_depth')['mean_test_f1_macro'].mean().reset_index()\n",
    "\n",
    "# Plotting the graph\n",
    "plt.figure(figsize=(10, 6))\n",
    "plt.bar(df_grouped['param_max_depth'], df_grouped['mean_test_f1_macro'], color='b')\n",
    "\n",
    "# Adding labels and title\n",
    "plt.xlabel('Max Depth')\n",
    "plt.ylabel('Average F1 Macro')\n",
    "plt.title('Average F1 Macro by Max Depth (Including None)')\n",
    "\n",
    "# Displaying the plot\n",
    "plt.tight_layout()\n",
    "plt.show()\n"
   ]
  },
  {
   "cell_type": "code",
   "execution_count": 142,
   "id": "e2d55966-dff5-4038-a3e9-9011cbd4036f",
   "metadata": {},
   "outputs": [
    {
     "name": "stderr",
     "output_type": "stream",
     "text": [
      "FutureWarning: The default of observed=False is deprecated and will be changed to True in a future version of pandas. Pass observed=False to retain current behavior or observed=True to adopt the future default and silence this warning.\n",
      "FutureWarning: The default of observed=False is deprecated and will be changed to True in a future version of pandas. Pass observed=False to retain current behavior or observed=True to adopt the future default and silence this warning.\n",
      "FutureWarning: The default of observed=False is deprecated and will be changed to True in a future version of pandas. Pass observed=False to retain current behavior or observed=True to adopt the future default and silence this warning.\n"
     ]
    },
    {
     "data": {
      "image/png": "[encoded data removed]",
      "text/plain": [
       "<Figure size 800x1800 with 3 Axes>"
      ]
     },
     "metadata": {},
     "output_type": "display_data"
    }
   ],
   "source": [
    "# Grouping by Max Depth, Min Samples Leaf, and Min Samples Split, and averaging False Positive Rate values\n",
    "df_grouped_depth = cv_results_df.groupby('param_max_depth')['mean_test_false_positive_rate'].mean().reset_index()\n",
    "df_grouped_leaf = cv_results_df.groupby('param_min_samples_leaf')['mean_test_false_positive_rate'].mean().reset_index()\n",
    "df_grouped_split = cv_results_df.groupby('param_min_samples_split')['mean_test_false_positive_rate'].mean().reset_index()\n",
    "\n",
    "# Creating a figure with 3 subplots\n",
    "fig, axes = plt.subplots(3, 1, figsize=(8, 18))\n",
    "\n",
    "# Plot for Max Depth\n",
    "axes[0].bar(df_grouped_depth['param_max_depth'], df_grouped_depth['mean_test_false_positive_rate'], color='r')\n",
    "axes[0].set_title('Avg False Positive Rate by Max Depth')\n",
    "axes[0].set_xlabel('Max Depth')\n",
    "axes[0].set_ylabel('Avg False Positive Rate')\n",
    "\n",
    "# Plot for Min Samples Leaf\n",
    "axes[1].bar(df_grouped_leaf['param_min_samples_leaf'], df_grouped_leaf['mean_test_false_positive_rate'], color='g')\n",
    "axes[1].set_title('Avg False Positive Rate by Min Samples Leaf')\n",
    "axes[1].set_xlabel('Min Samples Leaf')\n",
    "\n",
    "# Plot for Min Samples Split\n",
    "axes[2].bar(df_grouped_split['param_min_samples_split'], df_grouped_split['mean_test_false_positive_rate'], color='b')\n",
    "axes[2].set_title('Avg False Positive Rate by Min Samples Split')\n",
    "axes[2].set_xlabel('Min Samples Split')\n",
    "\n",
    "# Adjust layout for better spacing\n",
    "plt.tight_layout()\n",
    "\n",
    "# Display the plots\n",
    "plt.show()\n"
   ]
  },
  {
   "cell_type": "code",
   "execution_count": 150,
   "id": "c0f1422b-62cf-41c7-9733-6814a029f60c",
   "metadata": {},
   "outputs": [
    {
     "name": "stderr",
     "output_type": "stream",
     "text": [
      "FutureWarning: The default of observed=False is deprecated and will be changed to True in a future version of pandas. Pass observed=False to retain current behavior or observed=True to adopt the future default and silence this warning.\n",
      "FutureWarning: The default of observed=False is deprecated and will be changed to True in a future version of pandas. Pass observed=False to retain current behavior or observed=True to adopt the future default and silence this warning.\n",
      "FutureWarning: The default of observed=False is deprecated and will be changed to True in a future version of pandas. Pass observed=False to retain current behavior or observed=True to adopt the future default and silence this warning.\n"
     ]
    },
    {
     "data": {
      "image/png": "[encoded data removed]",
      "text/plain": [
       "<Figure size 1000x1800 with 3 Axes>"
      ]
     },
     "metadata": {},
     "output_type": "display_data"
    }
   ],
   "source": [
    "# Grouping by Max Depth, Min Samples Leaf, and Min Samples Split for both F1 Macro and Accuracy\n",
    "df_grouped_depth = cv_results_df.groupby('param_max_depth')[['mean_test_f1_macro', 'mean_test_accuracy']].mean().reset_index()\n",
    "df_grouped_leaf = cv_results_df.groupby('param_min_samples_leaf')[['mean_test_f1_macro', 'mean_test_accuracy']].mean().reset_index()\n",
    "df_grouped_split = cv_results_df.groupby('param_min_samples_split')[['mean_test_f1_macro', 'mean_test_accuracy']].mean().reset_index()\n",
    "\n",
    "# Creating the plots in a vertical layout\n",
    "fig, axes = plt.subplots(3, 1, figsize=(10, 18))\n",
    "\n",
    "bar_width = 0.35\n",
    "index_depth = range(len(df_grouped_depth))\n",
    "index_leaf = range(len(df_grouped_leaf))\n",
    "index_split = range(len(df_grouped_split))\n",
    "\n",
    "# Plot for Max Depth (F1 and Accuracy side by side)\n",
    "axes[0].bar(index_depth, df_grouped_depth['mean_test_f1_macro'], bar_width, label='F1 Macro', color='r')\n",
    "axes[0].bar([i + bar_width for i in index_depth], df_grouped_depth['mean_test_accuracy'], bar_width, label='Accuracy', color='g')\n",
    "axes[0].set_title('Avg F1 Macro and Accuracy by Max Depth')\n",
    "axes[0].set_xlabel('Max Depth')\n",
    "axes[0].set_ylabel('Avg Value')\n",
    "axes[0].set_xticks([i + bar_width / 2 for i in index_depth])\n",
    "axes[0].set_xticklabels(df_grouped_depth['param_max_depth'])\n",
    "axes[0].legend()\n",
    "\n",
    "# Adding values on top of each bar for Max Depth\n",
    "for p in axes[0].patches:\n",
    "    axes[0].annotate(format(p.get_height(), '.5f'), \n",
    "                     (p.get_x() + p.get_width() / 2., p.get_height()), \n",
    "                     ha = 'center', va = 'center', \n",
    "                     xytext = (0, 9), textcoords = 'offset points')\n",
    "\n",
    "# Plot for Min Samples Leaf (F1 and Accuracy side by side)\n",
    "axes[1].bar(index_leaf, df_grouped_leaf['mean_test_f1_macro'], bar_width, label='F1 Macro', color='r')\n",
    "axes[1].bar([i + bar_width for i in index_leaf], df_grouped_leaf['mean_test_accuracy'], bar_width, label='Accuracy', color='g')\n",
    "axes[1].set_title('Avg F1 Macro and Accuracy by Min Samples Leaf')\n",
    "axes[1].set_xlabel('Min Samples Leaf')\n",
    "axes[1].set_ylabel('Avg Value')\n",
    "axes[1].set_xticks([i + bar_width / 2 for i in index_leaf])\n",
    "axes[1].set_xticklabels(df_grouped_leaf['param_min_samples_leaf'])\n",
    "axes[1].legend()\n",
    "\n",
    "# Adding values on top of each bar for Min Samples Leaf\n",
    "for p in axes[1].patches:\n",
    "    axes[1].annotate(format(p.get_height(), '.5f'), \n",
    "                     (p.get_x() + p.get_width() / 2., p.get_height()), \n",
    "                     ha = 'center', va = 'center', \n",
    "                     xytext = (0, 9), textcoords = 'offset points')\n",
    "\n",
    "# Plot for Min Samples Split (F1 and Accuracy side by side)\n",
    "axes[2].bar(index_split, df_grouped_split['mean_test_f1_macro'], bar_width, label='F1 Macro', color='r')\n",
    "axes[2].bar([i + bar_width for i in index_split], df_grouped_split['mean_test_accuracy'], bar_width, label='Accuracy', color='g')\n",
    "axes[2].set_title('Avg F1 Macro and Accuracy by Min Samples Split')\n",
    "axes[2].set_xlabel('Min Samples Split')\n",
    "axes[2].set_ylabel('Avg Value')\n",
    "axes[2].set_xticks([i + bar_width / 2 for i in index_split])\n",
    "axes[2].set_xticklabels(df_grouped_split['param_min_samples_split'])\n",
    "axes[2].legend()\n",
    "\n",
    "# Adding values on top of each bar for Min Samples Split\n",
    "for p in axes[2].patches:\n",
    "    axes[2].annotate(format(p.get_height(), '.5f'), \n",
    "                     (p.get_x() + p.get_width() / 2., p.get_height()), \n",
    "                     ha = 'center', va = 'center', \n",
    "                     xytext = (0, 9), textcoords = 'offset points')\n",
    "\n",
    "# Adjusting layout for better spacing\n",
    "plt.tight_layout()\n",
    "\n",
    "# Display the plots\n",
    "plt.show()"
   ]
  },
  {
   "cell_type": "markdown",
   "id": "eaf1de72-41e6-458b-a299-13a35201f034",
   "metadata": {},
   "source": [
    "## Chosing best models to test with the full dataset:"
   ]
  },
  {
   "cell_type": "markdown",
   "id": "e533fe3e-b341-4cf4-aae2-97e63b7d7a50",
   "metadata": {},
   "source": [
    "> **Avoiding models with F1_score of `1`, as they potential suffer from overfitting**"
   ]
  },
  {
   "cell_type": "code",
   "execution_count": 148,
   "id": "c4fac742-353c-4531-81b7-92b56521bbad",
   "metadata": {},
   "outputs": [
    {
     "data": {
      "text/html": [
       "<div>\n",
       "<style scoped>\n",
       "    .dataframe tbody tr th:only-of-type {\n",
       "        vertical-align: middle;\n",
       "    }\n",
       "\n",
       "    .dataframe tbody tr th {\n",
       "        vertical-align: top;\n",
       "    }\n",
       "\n",
       "    .dataframe thead th {\n",
       "        text-align: right;\n",
       "    }\n",
       "</style>\n",
       "<table border=\"1\" class=\"dataframe\">\n",
       "  <thead>\n",
       "    <tr style=\"text-align: right;\">\n",
       "      <th></th>\n",
       "      <th>param_class_weight</th>\n",
       "      <th>param_max_depth</th>\n",
       "      <th>param_min_samples_leaf</th>\n",
       "      <th>param_min_samples_split</th>\n",
       "      <th>mean_test_false_positive_rate</th>\n",
       "      <th>split1_test_f1_macro</th>\n",
       "      <th>mean_test_accuracy</th>\n",
       "      <th>mean_test_precision</th>\n",
       "    </tr>\n",
       "  </thead>\n",
       "  <tbody>\n",
       "    <tr>\n",
       "      <th>0</th>\n",
       "      <td>NaN</td>\n",
       "      <td>nan</td>\n",
       "      <td>1</td>\n",
       "      <td>2</td>\n",
       "      <td>-0.0</td>\n",
       "      <td>1.0</td>\n",
       "      <td>1.0</td>\n",
       "      <td>1.0</td>\n",
       "    </tr>\n",
       "    <tr>\n",
       "      <th>1</th>\n",
       "      <td>NaN</td>\n",
       "      <td>nan</td>\n",
       "      <td>1</td>\n",
       "      <td>10</td>\n",
       "      <td>-0.0</td>\n",
       "      <td>1.0</td>\n",
       "      <td>1.0</td>\n",
       "      <td>1.0</td>\n",
       "    </tr>\n",
       "    <tr>\n",
       "      <th>2</th>\n",
       "      <td>NaN</td>\n",
       "      <td>nan</td>\n",
       "      <td>1</td>\n",
       "      <td>20</td>\n",
       "      <td>-0.0</td>\n",
       "      <td>1.0</td>\n",
       "      <td>1.0</td>\n",
       "      <td>1.0</td>\n",
       "    </tr>\n",
       "    <tr>\n",
       "      <th>3</th>\n",
       "      <td>NaN</td>\n",
       "      <td>nan</td>\n",
       "      <td>5</td>\n",
       "      <td>2</td>\n",
       "      <td>-0.0</td>\n",
       "      <td>1.0</td>\n",
       "      <td>1.0</td>\n",
       "      <td>1.0</td>\n",
       "    </tr>\n",
       "    <tr>\n",
       "      <th>4</th>\n",
       "      <td>NaN</td>\n",
       "      <td>nan</td>\n",
       "      <td>5</td>\n",
       "      <td>10</td>\n",
       "      <td>-0.0</td>\n",
       "      <td>1.0</td>\n",
       "      <td>1.0</td>\n",
       "      <td>1.0</td>\n",
       "    </tr>\n",
       "  </tbody>\n",
       "</table>\n",
       "</div>"
      ],
      "text/plain": [
       "  param_class_weight param_max_depth param_min_samples_leaf  \\\n",
       "0                NaN             nan                      1   \n",
       "1                NaN             nan                      1   \n",
       "2                NaN             nan                      1   \n",
       "3                NaN             nan                      5   \n",
       "4                NaN             nan                      5   \n",
       "\n",
       "  param_min_samples_split  mean_test_false_positive_rate  \\\n",
       "0                       2                           -0.0   \n",
       "1                      10                           -0.0   \n",
       "2                      20                           -0.0   \n",
       "3                       2                           -0.0   \n",
       "4                      10                           -0.0   \n",
       "\n",
       "   split1_test_f1_macro  mean_test_accuracy  mean_test_precision  \n",
       "0                   1.0                 1.0                  1.0  \n",
       "1                   1.0                 1.0                  1.0  \n",
       "2                   1.0                 1.0                  1.0  \n",
       "3                   1.0                 1.0                  1.0  \n",
       "4                   1.0                 1.0                  1.0  "
      ]
     },
     "execution_count": 148,
     "metadata": {},
     "output_type": "execute_result"
    }
   ],
   "source": [
    "best_models = cv_results_df.sort_values(by=\"mean_test_false_positive_rate\", ascending=True).reset_index(drop=True)\n",
    "\n",
    "best_models[['param_class_weight', 'param_max_depth', 'param_min_samples_leaf', 'param_min_samples_split', 'mean_test_false_positive_rate', \"split1_test_f1_macro\",'mean_test_accuracy', \"mean_test_precision\",]].head()"
   ]
  },
  {
   "cell_type": "code",
   "execution_count": 135,
   "id": "fb0c0b95-6f06-4f24-934e-6cc63c9683b7",
   "metadata": {},
   "outputs": [
    {
     "data": {
      "text/html": [
       "<div>\n",
       "<style scoped>\n",
       "    .dataframe tbody tr th:only-of-type {\n",
       "        vertical-align: middle;\n",
       "    }\n",
       "\n",
       "    .dataframe tbody tr th {\n",
       "        vertical-align: top;\n",
       "    }\n",
       "\n",
       "    .dataframe thead th {\n",
       "        text-align: right;\n",
       "    }\n",
       "</style>\n",
       "<table border=\"1\" class=\"dataframe\">\n",
       "  <thead>\n",
       "    <tr style=\"text-align: right;\">\n",
       "      <th></th>\n",
       "      <th>param_class_weight</th>\n",
       "      <th>param_max_depth</th>\n",
       "      <th>param_min_samples_leaf</th>\n",
       "      <th>param_min_samples_split</th>\n",
       "      <th>mean_test_false_positive_rate</th>\n",
       "      <th>mean_test_f1_macro</th>\n",
       "      <th>mean_test_accuracy</th>\n",
       "      <th>mean_test_precision</th>\n",
       "      <th>mean_fit_time</th>\n",
       "    </tr>\n",
       "  </thead>\n",
       "  <tbody>\n",
       "    <tr>\n",
       "      <th>0</th>\n",
       "      <td>balanced</td>\n",
       "      <td>10.0</td>\n",
       "      <td>10</td>\n",
       "      <td>2</td>\n",
       "      <td>0.000357</td>\n",
       "      <td>0.999197</td>\n",
       "      <td>0.999996</td>\n",
       "      <td>1.000000</td>\n",
       "      <td>38.014519</td>\n",
       "    </tr>\n",
       "    <tr>\n",
       "      <th>1</th>\n",
       "      <td>balanced</td>\n",
       "      <td>10.0</td>\n",
       "      <td>10</td>\n",
       "      <td>10</td>\n",
       "      <td>0.000357</td>\n",
       "      <td>0.999197</td>\n",
       "      <td>0.999996</td>\n",
       "      <td>1.000000</td>\n",
       "      <td>37.995716</td>\n",
       "    </tr>\n",
       "    <tr>\n",
       "      <th>2</th>\n",
       "      <td>balanced</td>\n",
       "      <td>nan</td>\n",
       "      <td>10</td>\n",
       "      <td>20</td>\n",
       "      <td>0.000357</td>\n",
       "      <td>0.999197</td>\n",
       "      <td>0.999996</td>\n",
       "      <td>1.000000</td>\n",
       "      <td>38.042239</td>\n",
       "    </tr>\n",
       "    <tr>\n",
       "      <th>3</th>\n",
       "      <td>balanced</td>\n",
       "      <td>nan</td>\n",
       "      <td>10</td>\n",
       "      <td>10</td>\n",
       "      <td>0.000357</td>\n",
       "      <td>0.999197</td>\n",
       "      <td>0.999996</td>\n",
       "      <td>1.000000</td>\n",
       "      <td>37.957982</td>\n",
       "    </tr>\n",
       "    <tr>\n",
       "      <th>4</th>\n",
       "      <td>balanced</td>\n",
       "      <td>nan</td>\n",
       "      <td>10</td>\n",
       "      <td>2</td>\n",
       "      <td>0.000357</td>\n",
       "      <td>0.999197</td>\n",
       "      <td>0.999996</td>\n",
       "      <td>1.000000</td>\n",
       "      <td>38.104373</td>\n",
       "    </tr>\n",
       "    <tr>\n",
       "      <th>5</th>\n",
       "      <td>balanced</td>\n",
       "      <td>20.0</td>\n",
       "      <td>10</td>\n",
       "      <td>20</td>\n",
       "      <td>0.000357</td>\n",
       "      <td>0.999197</td>\n",
       "      <td>0.999996</td>\n",
       "      <td>1.000000</td>\n",
       "      <td>37.756799</td>\n",
       "    </tr>\n",
       "    <tr>\n",
       "      <th>6</th>\n",
       "      <td>balanced</td>\n",
       "      <td>10.0</td>\n",
       "      <td>10</td>\n",
       "      <td>20</td>\n",
       "      <td>0.000357</td>\n",
       "      <td>0.999197</td>\n",
       "      <td>0.999996</td>\n",
       "      <td>1.000000</td>\n",
       "      <td>38.180041</td>\n",
       "    </tr>\n",
       "    <tr>\n",
       "      <th>7</th>\n",
       "      <td>balanced</td>\n",
       "      <td>20.0</td>\n",
       "      <td>10</td>\n",
       "      <td>10</td>\n",
       "      <td>0.000357</td>\n",
       "      <td>0.999197</td>\n",
       "      <td>0.999996</td>\n",
       "      <td>1.000000</td>\n",
       "      <td>37.874183</td>\n",
       "    </tr>\n",
       "    <tr>\n",
       "      <th>8</th>\n",
       "      <td>balanced</td>\n",
       "      <td>20.0</td>\n",
       "      <td>10</td>\n",
       "      <td>2</td>\n",
       "      <td>0.000357</td>\n",
       "      <td>0.999197</td>\n",
       "      <td>0.999996</td>\n",
       "      <td>1.000000</td>\n",
       "      <td>38.077152</td>\n",
       "    </tr>\n",
       "    <tr>\n",
       "      <th>9</th>\n",
       "      <td>balanced</td>\n",
       "      <td>nan</td>\n",
       "      <td>1</td>\n",
       "      <td>2</td>\n",
       "      <td>0.000535</td>\n",
       "      <td>0.999821</td>\n",
       "      <td>0.999999</td>\n",
       "      <td>0.999999</td>\n",
       "      <td>38.053355</td>\n",
       "    </tr>\n",
       "    <tr>\n",
       "      <th>10</th>\n",
       "      <td>balanced</td>\n",
       "      <td>nan</td>\n",
       "      <td>5</td>\n",
       "      <td>2</td>\n",
       "      <td>0.000535</td>\n",
       "      <td>0.999554</td>\n",
       "      <td>0.999998</td>\n",
       "      <td>0.999999</td>\n",
       "      <td>37.908162</td>\n",
       "    </tr>\n",
       "    <tr>\n",
       "      <th>11</th>\n",
       "      <td>balanced</td>\n",
       "      <td>nan</td>\n",
       "      <td>1</td>\n",
       "      <td>20</td>\n",
       "      <td>0.000535</td>\n",
       "      <td>0.999821</td>\n",
       "      <td>0.999999</td>\n",
       "      <td>0.999999</td>\n",
       "      <td>37.869964</td>\n",
       "    </tr>\n",
       "    <tr>\n",
       "      <th>12</th>\n",
       "      <td>balanced</td>\n",
       "      <td>nan</td>\n",
       "      <td>1</td>\n",
       "      <td>10</td>\n",
       "      <td>0.000535</td>\n",
       "      <td>0.999821</td>\n",
       "      <td>0.999999</td>\n",
       "      <td>0.999999</td>\n",
       "      <td>38.055339</td>\n",
       "    </tr>\n",
       "    <tr>\n",
       "      <th>13</th>\n",
       "      <td>balanced</td>\n",
       "      <td>nan</td>\n",
       "      <td>5</td>\n",
       "      <td>10</td>\n",
       "      <td>0.000535</td>\n",
       "      <td>0.999554</td>\n",
       "      <td>0.999998</td>\n",
       "      <td>0.999999</td>\n",
       "      <td>38.123297</td>\n",
       "    </tr>\n",
       "    <tr>\n",
       "      <th>14</th>\n",
       "      <td>balanced</td>\n",
       "      <td>10.0</td>\n",
       "      <td>5</td>\n",
       "      <td>2</td>\n",
       "      <td>0.000535</td>\n",
       "      <td>0.999554</td>\n",
       "      <td>0.999998</td>\n",
       "      <td>0.999999</td>\n",
       "      <td>37.920672</td>\n",
       "    </tr>\n",
       "    <tr>\n",
       "      <th>15</th>\n",
       "      <td>balanced</td>\n",
       "      <td>10.0</td>\n",
       "      <td>1</td>\n",
       "      <td>10</td>\n",
       "      <td>0.000535</td>\n",
       "      <td>0.999821</td>\n",
       "      <td>0.999999</td>\n",
       "      <td>0.999999</td>\n",
       "      <td>37.915310</td>\n",
       "    </tr>\n",
       "    <tr>\n",
       "      <th>16</th>\n",
       "      <td>balanced</td>\n",
       "      <td>10.0</td>\n",
       "      <td>5</td>\n",
       "      <td>20</td>\n",
       "      <td>0.000535</td>\n",
       "      <td>0.999554</td>\n",
       "      <td>0.999998</td>\n",
       "      <td>0.999999</td>\n",
       "      <td>38.192687</td>\n",
       "    </tr>\n",
       "    <tr>\n",
       "      <th>17</th>\n",
       "      <td>balanced</td>\n",
       "      <td>10.0</td>\n",
       "      <td>5</td>\n",
       "      <td>10</td>\n",
       "      <td>0.000535</td>\n",
       "      <td>0.999554</td>\n",
       "      <td>0.999998</td>\n",
       "      <td>0.999999</td>\n",
       "      <td>38.035167</td>\n",
       "    </tr>\n",
       "    <tr>\n",
       "      <th>18</th>\n",
       "      <td>balanced</td>\n",
       "      <td>10.0</td>\n",
       "      <td>1</td>\n",
       "      <td>20</td>\n",
       "      <td>0.000535</td>\n",
       "      <td>0.999821</td>\n",
       "      <td>0.999999</td>\n",
       "      <td>0.999999</td>\n",
       "      <td>38.028894</td>\n",
       "    </tr>\n",
       "    <tr>\n",
       "      <th>19</th>\n",
       "      <td>balanced</td>\n",
       "      <td>10.0</td>\n",
       "      <td>1</td>\n",
       "      <td>2</td>\n",
       "      <td>0.000535</td>\n",
       "      <td>0.999821</td>\n",
       "      <td>0.999999</td>\n",
       "      <td>0.999999</td>\n",
       "      <td>38.243426</td>\n",
       "    </tr>\n",
       "  </tbody>\n",
       "</table>\n",
       "</div>"
      ],
      "text/plain": [
       "   param_class_weight param_max_depth  param_min_samples_leaf  \\\n",
       "0            balanced            10.0                      10   \n",
       "1            balanced            10.0                      10   \n",
       "2            balanced             nan                      10   \n",
       "3            balanced             nan                      10   \n",
       "4            balanced             nan                      10   \n",
       "5            balanced            20.0                      10   \n",
       "6            balanced            10.0                      10   \n",
       "7            balanced            20.0                      10   \n",
       "8            balanced            20.0                      10   \n",
       "9            balanced             nan                       1   \n",
       "10           balanced             nan                       5   \n",
       "11           balanced             nan                       1   \n",
       "12           balanced             nan                       1   \n",
       "13           balanced             nan                       5   \n",
       "14           balanced            10.0                       5   \n",
       "15           balanced            10.0                       1   \n",
       "16           balanced            10.0                       5   \n",
       "17           balanced            10.0                       5   \n",
       "18           balanced            10.0                       1   \n",
       "19           balanced            10.0                       1   \n",
       "\n",
       "    param_min_samples_split  mean_test_false_positive_rate  \\\n",
       "0                         2                       0.000357   \n",
       "1                        10                       0.000357   \n",
       "2                        20                       0.000357   \n",
       "3                        10                       0.000357   \n",
       "4                         2                       0.000357   \n",
       "5                        20                       0.000357   \n",
       "6                        20                       0.000357   \n",
       "7                        10                       0.000357   \n",
       "8                         2                       0.000357   \n",
       "9                         2                       0.000535   \n",
       "10                        2                       0.000535   \n",
       "11                       20                       0.000535   \n",
       "12                       10                       0.000535   \n",
       "13                       10                       0.000535   \n",
       "14                        2                       0.000535   \n",
       "15                       10                       0.000535   \n",
       "16                       20                       0.000535   \n",
       "17                       10                       0.000535   \n",
       "18                       20                       0.000535   \n",
       "19                        2                       0.000535   \n",
       "\n",
       "    mean_test_f1_macro  mean_test_accuracy  mean_test_precision  mean_fit_time  \n",
       "0             0.999197            0.999996             1.000000      38.014519  \n",
       "1             0.999197            0.999996             1.000000      37.995716  \n",
       "2             0.999197            0.999996             1.000000      38.042239  \n",
       "3             0.999197            0.999996             1.000000      37.957982  \n",
       "4             0.999197            0.999996             1.000000      38.104373  \n",
       "5             0.999197            0.999996             1.000000      37.756799  \n",
       "6             0.999197            0.999996             1.000000      38.180041  \n",
       "7             0.999197            0.999996             1.000000      37.874183  \n",
       "8             0.999197            0.999996             1.000000      38.077152  \n",
       "9             0.999821            0.999999             0.999999      38.053355  \n",
       "10            0.999554            0.999998             0.999999      37.908162  \n",
       "11            0.999821            0.999999             0.999999      37.869964  \n",
       "12            0.999821            0.999999             0.999999      38.055339  \n",
       "13            0.999554            0.999998             0.999999      38.123297  \n",
       "14            0.999554            0.999998             0.999999      37.920672  \n",
       "15            0.999821            0.999999             0.999999      37.915310  \n",
       "16            0.999554            0.999998             0.999999      38.192687  \n",
       "17            0.999554            0.999998             0.999999      38.035167  \n",
       "18            0.999821            0.999999             0.999999      38.028894  \n",
       "19            0.999821            0.999999             0.999999      38.243426  "
      ]
     },
     "execution_count": 135,
     "metadata": {},
     "output_type": "execute_result"
    }
   ],
   "source": [
    "# Filtering out models with accuracy of 1, which suggests overfiting, and sorting it by mean test F1 macro score\n",
    "no_overfit_models = best_models[best_models[\"mean_test_accuracy\"] != 1].reset_index(drop=True)\n",
    "\n",
    "# Display the top models with their hyperparameters\n",
    "no_overfit_models[['param_class_weight', 'param_max_depth', 'param_min_samples_leaf', 'param_min_samples_split', 'mean_test_false_positive_rate', \"mean_test_f1_macro\",'mean_test_accuracy', \"mean_test_precision\", \"mean_fit_time\"]].head(20)\n"
   ]
  },
  {
   "cell_type": "markdown",
   "id": "dc963099-ca24-4c38-bf17-28a5a57e7fc2",
   "metadata": {},
   "source": [
    "> **Note:** The negative values observed for the *False Positive Rate (FPR)* in GridSearchCV results are due to how scikit-learn's make_scorer function handles the greater_is_better parameter.  when greater_is_better=False, scikit-learn multiplies the metric by -1 internally to convert it into a score where higher values are better (since optimization routines are designed to maximize the score)."
   ]
  },
  {
   "cell_type": "markdown",
   "id": "c10d5a31-8347-42d6-9030-8ccf302a9a88",
   "metadata": {},
   "source": [
    "**Which models to train on the full dataset:**\n",
    "Top 9 models have the same FPR, therefore, chosing the model that is most restrictive to avoid overfitting.\n",
    "\n",
    "Model#1: \n",
    "- param_class_weight balanaced\n",
    "- param_max_depth 10\n",
    "- param_min_samples_leaf 10 \t\n",
    "- param_min_samples_split 2\n",
    "\n",
    "--\n",
    "\n",
    "Model#2: \n",
    "\n",
    "Also chosing model,index-19, because it is restrictive and have higher F1 _Marco than the previous one, with slightly less FPR.\n",
    "\n",
    "- param_class_weight balanaced\n",
    "- param_max_depth 10\n",
    "- param_min_samples_leaf 1\t\n",
    "- param_min_samples_split 20\n",
    "\n",
    "--\n",
    "\n",
    "Model#3: \n",
    "\n",
    "finally chosing model index-10, because its parameter is differet to the ones above, and it has the same F1_macro, and FPR.\n",
    "\n",
    "- param_class_weight balanaced\n",
    "- param_max_depth 20\n",
    "- param_min_samples_leaf 5\t\n",
    "- param_min_samples_split 10"
   ]
  },
  {
   "cell_type": "markdown",
   "id": "82d08a48-db0c-4c97-9969-69c7a6d41fbe",
   "metadata": {},
   "source": [
    "## Training Model based on the whole dataset:"
   ]
  },
  {
   "cell_type": "code",
   "execution_count": 36,
   "id": "1e3907f1-68d6-400c-9886-bb355117f930",
   "metadata": {},
   "outputs": [
    {
     "name": "stdout",
     "output_type": "stream",
     "text": [
      "CPU times: user 422 ms, sys: 3.8 ms, total: 426 ms\n",
      "Wall time: 397 ms\n"
     ]
    }
   ],
   "source": [
    "%%time\n",
    "\n",
    "X_train, y_train, X_test, y_test = split_train_test_df(training_df, testing_df)"
   ]
  },
  {
   "cell_type": "code",
   "execution_count": 37,
   "id": "c53368e5-13e8-43ce-a3fb-5f83610c9c14",
   "metadata": {},
   "outputs": [
    {
     "name": "stdout",
     "output_type": "stream",
     "text": [
      "CPU times: user 79 μs, sys: 0 ns, total: 79 μs\n",
      "Wall time: 86.5 μs\n"
     ]
    },
    {
     "data": {
      "text/plain": [
       "((50052497, 140), (50052497,), (19963266, 140), (19963266,))"
      ]
     },
     "execution_count": 37,
     "metadata": {},
     "output_type": "execute_result"
    }
   ],
   "source": [
    "%%time\n",
    "\n",
    "X_train.shape, y_train.shape , X_test.shape, y_test.shape"
   ]
  },
  {
   "cell_type": "code",
   "execution_count": 61,
   "id": "a1fb9b19-bdcd-448a-aed0-d3b58d097530",
   "metadata": {},
   "outputs": [
    {
     "name": "stdout",
     "output_type": "stream",
     "text": [
      "Model 1 already exists. Skipping training.\n",
      "Model 2 already exists. Skipping training.\n",
      "Training model 3 with params: {'class_weight': 'balanced', 'max_depth': 20, 'min_samples_leaf': 5, 'min_samples_split': 10}\n",
      "Model 3 saved as decision_tree_model_3.joblib\n",
      "Training completed for all models.\n",
      "CPU times: user 5min 46s, sys: 1min 8s, total: 6min 54s\n",
      "Wall time: 6min 52s\n"
     ]
    }
   ],
   "source": [
    "%%time\n",
    "param_grid = [\n",
    "    {\"class_weight\":\"balanced\", 'max_depth': 10, 'min_samples_leaf': 10,'min_samples_split': 2}, \n",
    "    {\"class_weight\":\"balanced\", 'max_depth': 10, 'min_samples_leaf': 1,'min_samples_split': 20}, \n",
    "    {\"class_weight\":\"balanced\", 'max_depth': 20, 'min_samples_leaf': 5,'min_samples_split': 10} \n",
    "]\n",
    "\n",
    "\n",
    "# List to store trained models\n",
    "trained_models = []\n",
    "\n",
    "# Loop over the param_grid and train each Decision Tree model\n",
    "for idx, params in enumerate(param_grid):\n",
    "    \n",
    "    # Save the trained model to disk\n",
    "    model_filename = f\"decision_tree_models/decision_tree_model_{idx + 1}.joblib\"\n",
    "\n",
    "    # Check if the model file already exists\n",
    "    if os.path.exists(model_filename):\n",
    "        print(f\"Model {idx + 1} already exists. Skipping training.\")\n",
    "        continue  # Skip this iteration if the model is already saved\n",
    "    \n",
    "    # Initialize Decision Tree model with the specified parameters\n",
    "    dt_model = DecisionTreeClassifier(\n",
    "        criterion=\"entropy\",  # Using entropy as the criterion since the dataset is imbalanced\n",
    "        class_weight=params['class_weight'],\n",
    "        max_depth=params['max_depth'],\n",
    "        min_samples_leaf=params['min_samples_leaf'],\n",
    "        min_samples_split=params['min_samples_split'],\n",
    "        random_state=42\n",
    "    )\n",
    "\n",
    "    # Fit the model\n",
    "    print(f\"Training model {idx + 1} with params: {params}\")\n",
    "    dt_model.fit(X_train, y_train)\n",
    "\n",
    "\n",
    "    joblib.dump(dt_model, model_filename)\n",
    "    print(f\"Model {idx + 1} saved as {model_filename}\")\n",
    "\n",
    "    # Append the trained model to the list\n",
    "    trained_models.append(dt_model)\n",
    "\n",
    "print(\"Training completed for all models.\")"
   ]
  },
  {
   "cell_type": "code",
   "execution_count": 154,
   "id": "af32e816-3c4e-4ba2-bd2a-9bc3ad485533",
   "metadata": {},
   "outputs": [
    {
     "name": "stdout",
     "output_type": "stream",
     "text": [
      "Testing model 1 from decision_tree_model_1.joblib\n",
      "Testing model 2 from decision_tree_model_2.joblib\n",
      "Testing model 3 from decision_tree_model_3.joblib\n",
      "     Model  Max Depth  Min Samples Leaf  Min Samples Split  Accuracy  \\\n",
      "0  Model 1         10                10                  2  0.940085   \n",
      "1  Model 2         10                 1                 20  0.999987   \n",
      "2  Model 3         20                 5                  0  0.999973   \n",
      "\n",
      "   F1 Score  True Positive Rate (TPR)  False Positive Rate (FPR)  \n",
      "0  0.969034                  0.939949                   0.008603  \n",
      "1  0.999993                  1.000000                   0.005063  \n",
      "2  0.999987                  0.999999                   0.009860  \n",
      "Results saved to 'model_evaluation_results_with_params.csv'.\n"
     ]
    }
   ],
   "source": [
    "# Testing the model and checking their performance:\n",
    "\n",
    "# List of filenames for the trained models\n",
    "model_filenames = [\n",
    "    \"decision_tree_model_1.joblib\",\n",
    "    \"decision_tree_model_2.joblib\",\n",
    "    \"decision_tree_model_3.joblib\"\n",
    "]\n",
    "\n",
    "# Placeholder to store the evaluation results\n",
    "results = []\n",
    "\n",
    "# Loop through the saved models and evaluate them\n",
    "for idx, model_filename in enumerate(model_filenames):\n",
    "    # Load the trained model\n",
    "    if os.path.exists(model_filename):\n",
    "        dt_model = joblib.load(model_filename)\n",
    "        print(f\"Testing model {idx + 1} from {model_filename}\")\n",
    "\n",
    "        # Perform predictions\n",
    "        y_pred = dt_model.predict(X_test)\n",
    "\n",
    "        # Calculate Accuracy\n",
    "        accuracy = accuracy_score(y_test, y_pred)\n",
    "\n",
    "        # Calculate F1 Score\n",
    "        f1 = f1_score(y_test, y_pred)\n",
    "\n",
    "        # Calculate confusion matrix for TPR and FPR\n",
    "        tn, fp, fn, tp = confusion_matrix(y_test, y_pred).ravel()\n",
    "\n",
    "        # Calculate True Positive Rate (TPR) and False Positive Rate (FPR)\n",
    "        tpr = tp / (tp + fn)  # Sensitivity, hit rate, recall\n",
    "        fpr = fp / (fp + tn)  # Fall-out, false positive rate\n",
    "\n",
    "        # Append the results to the list, including the parameters for each model\n",
    "        results.append({\n",
    "            'Model': f'Model {idx + 1}',\n",
    "            'Max Depth': param_grid[idx]['max_depth'],\n",
    "            'Min Samples Leaf': param_grid[idx]['min_samples_leaf'],\n",
    "            'Min Samples Split': param_grid[idx]['min_samples_split'],\n",
    "            'Accuracy': accuracy,\n",
    "            'F1 Score': f1,\n",
    "            'True Positive Rate (TPR)': tpr,\n",
    "            'False Positive Rate (FPR)': fpr\n",
    "        })\n",
    "\n",
    "# Convert the results into a Pandas DataFrame\n",
    "results_df = pd.DataFrame(results)\n",
    "\n",
    "# Display the DataFrame\n",
    "print(results_df)\n",
    "\n",
    "# Optionally, save the results DataFrame to a CSV file\n",
    "results_df.to_csv(\"decision_tree_models/model_evaluation_results_with_params.csv\", index=False)\n",
    "\n",
    "print(\"Results saved to 'model_evaluation_results_with_params.csv'.\")"
   ]
  },
  {
   "cell_type": "code",
   "execution_count": 68,
   "id": "2d113514-2987-4c7a-bc23-b620ddfc8ac3",
   "metadata": {},
   "outputs": [
    {
     "data": {
      "text/html": [
       "<div>\n",
       "<style scoped>\n",
       "    .dataframe tbody tr th:only-of-type {\n",
       "        vertical-align: middle;\n",
       "    }\n",
       "\n",
       "    .dataframe tbody tr th {\n",
       "        vertical-align: top;\n",
       "    }\n",
       "\n",
       "    .dataframe thead th {\n",
       "        text-align: right;\n",
       "    }\n",
       "</style>\n",
       "<table border=\"1\" class=\"dataframe\">\n",
       "  <thead>\n",
       "    <tr style=\"text-align: right;\">\n",
       "      <th></th>\n",
       "      <th>Model</th>\n",
       "      <th>Max Depth</th>\n",
       "      <th>Min Samples Leaf</th>\n",
       "      <th>Min Samples Split</th>\n",
       "      <th>Accuracy</th>\n",
       "      <th>F1 Score</th>\n",
       "      <th>True Positive Rate (TPR)</th>\n",
       "      <th>False Positive Rate (FPR)</th>\n",
       "    </tr>\n",
       "  </thead>\n",
       "  <tbody>\n",
       "    <tr>\n",
       "      <th>0</th>\n",
       "      <td>Model 1</td>\n",
       "      <td>10</td>\n",
       "      <td>10</td>\n",
       "      <td>2</td>\n",
       "      <td>0.940085</td>\n",
       "      <td>0.969034</td>\n",
       "      <td>0.939949</td>\n",
       "      <td>0.008603</td>\n",
       "    </tr>\n",
       "    <tr>\n",
       "      <th>1</th>\n",
       "      <td>Model 2</td>\n",
       "      <td>10</td>\n",
       "      <td>1</td>\n",
       "      <td>20</td>\n",
       "      <td>0.999987</td>\n",
       "      <td>0.999993</td>\n",
       "      <td>1.000000</td>\n",
       "      <td>0.005063</td>\n",
       "    </tr>\n",
       "    <tr>\n",
       "      <th>2</th>\n",
       "      <td>Model 3</td>\n",
       "      <td>20</td>\n",
       "      <td>5</td>\n",
       "      <td>0</td>\n",
       "      <td>0.999973</td>\n",
       "      <td>0.999987</td>\n",
       "      <td>0.999999</td>\n",
       "      <td>0.009860</td>\n",
       "    </tr>\n",
       "  </tbody>\n",
       "</table>\n",
       "</div>"
      ],
      "text/plain": [
       "     Model  Max Depth  Min Samples Leaf  Min Samples Split  Accuracy  \\\n",
       "0  Model 1         10                10                  2  0.940085   \n",
       "1  Model 2         10                 1                 20  0.999987   \n",
       "2  Model 3         20                 5                  0  0.999973   \n",
       "\n",
       "   F1 Score  True Positive Rate (TPR)  False Positive Rate (FPR)  \n",
       "0  0.969034                  0.939949                   0.008603  \n",
       "1  0.999993                  1.000000                   0.005063  \n",
       "2  0.999987                  0.999999                   0.009860  "
      ]
     },
     "execution_count": 68,
     "metadata": {},
     "output_type": "execute_result"
    }
   ],
   "source": [
    "results_df "
   ]
  },
  {
   "cell_type": "code",
   "execution_count": 77,
   "id": "6e76220f-7842-4f01-9352-0c26df7de4eb",
   "metadata": {},
   "outputs": [],
   "source": [
    "# Creating the table content\n",
    "table_data = results_df[['Model', 'Max Depth', 'Min Samples Leaf', 'Min Samples Split']].set_index('Model').T"
   ]
  },
  {
   "cell_type": "code",
   "execution_count": 156,
   "id": "384e5000-f049-4d95-8a2b-c29e113a592e",
   "metadata": {},
   "outputs": [
    {
     "data": {
      "image/png": "[encoded data removed]",
      "text/plain": [
       "<Figure size 1000x800 with 1 Axes>"
      ]
     },
     "metadata": {},
     "output_type": "display_data"
    }
   ],
   "source": [
    "# Creating the bar plot using seaborn\n",
    "plt.figure(figsize=(10, 8))\n",
    "\n",
    "# Plotting Accuracy and F1 Score side by side for each model\n",
    "df_melted = pd.melt(results_df, id_vars='Model', value_vars=['Accuracy', 'F1 Score'], var_name='Metric', value_name='Score')\n",
    "\n",
    "ax = sns.barplot(x='Model', y='Score', hue='Metric', data=df_melted)\n",
    "# Adding values on top of each bar\n",
    "for p in ax.patches:\n",
    "    ax.annotate(format(p.get_height(), '.5f'), \n",
    "                (p.get_x() + p.get_width() / 2., p.get_height()), \n",
    "                ha = 'center', va = 'center', \n",
    "                xytext = (0, 9), textcoords = 'offset points')\n",
    "\n",
    "\n",
    "# Adding labels and title\n",
    "plt.xlabel('Models')\n",
    "plt.ylabel('Score')\n",
    "plt.title('Accuracy and F1 Score with Model Parameters')\n",
    "plt.legend(loc='upper left')\n",
    "\n",
    "# Displaying the table below the plot\n",
    "plt.table(cellText=table_data.values, colLabels=table_data.columns, rowLabels=table_data.index, cellLoc='center', loc='bottom', bbox=[0, -0.4, 1, 0.2])\n",
    "\n",
    "# Adjust layout to make room for the table\n",
    "plt.tight_layout()\n",
    "\n",
    "# Display the plot\n",
    "plt.show()"
   ]
  },
  {
   "cell_type": "code",
   "execution_count": 155,
   "id": "588763ce-4bbe-4998-b82c-32c754b7c49d",
   "metadata": {},
   "outputs": [
    {
     "data": {
      "image/png": "[encoded data removed]",
      "text/plain": [
       "<Figure size 1000x800 with 1 Axes>"
      ]
     },
     "metadata": {},
     "output_type": "display_data"
    }
   ],
   "source": [
    "# Creating the bar plot using seaborn for FPR\n",
    "plt.figure(figsize=(10, 8))\n",
    "\n",
    "# Plotting FPR with grey color\n",
    "ax = sns.barplot(x='Model', y='False Positive Rate (FPR)', data=results_df, color='red')\n",
    "\n",
    "# Adding values on top of each bar\n",
    "for p in ax.patches:\n",
    "    ax.annotate(format(p.get_height(), '.5f'), \n",
    "                (p.get_x() + p.get_width() / 2., p.get_height()), \n",
    "                ha = 'center', va = 'center', \n",
    "                xytext = (0, 9), textcoords = 'offset points')\n",
    "\n",
    "# Adding labels and title\n",
    "plt.xlabel('Models')\n",
    "plt.ylabel('False Positive Rate')\n",
    "plt.title('False Positive Rate (FPR) with Model Parameters')\n",
    "\n",
    "# Displaying the table below the plot\n",
    "plt.table(cellText=table_data.values, colLabels=table_data.columns, rowLabels=table_data.index, cellLoc='center', loc='bottom', bbox=[0, -0.4, 1, 0.2])\n",
    "\n",
    "# Adjust layout to make room for the table\n",
    "plt.tight_layout()\n",
    "\n",
    "# Display the plot\n",
    "plt.show()"
   ]
  },
  {
   "cell_type": "code",
   "execution_count": 158,
   "id": "a2268de5-b400-4f98-9783-6c18c9b6df79",
   "metadata": {},
   "outputs": [
    {
     "data": {
      "image/png": "[encoded data removed]",
      "text/plain": [
       "<Figure size 1000x800 with 1 Axes>"
      ]
     },
     "metadata": {},
     "output_type": "display_data"
    }
   ],
   "source": [
    "# Creating the bar plot using seaborn for TPR\n",
    "plt.figure(figsize=(10, 8))\n",
    "\n",
    "# Plotting FPR with grey color\n",
    "ax = sns.barplot(x='Model', y='True Positive Rate (TPR)', data=results_df, color='green')\n",
    "\n",
    "# Adding values on top of each bar\n",
    "for p in ax.patches:\n",
    "    ax.annotate(format(p.get_height(), '.5f'), \n",
    "                (p.get_x() + p.get_width() / 2., p.get_height()), \n",
    "                ha = 'center', va = 'center', \n",
    "                xytext = (0, 9), textcoords = 'offset points')\n",
    "\n",
    "# Adding labels and title\n",
    "plt.xlabel('Models')\n",
    "plt.ylabel('True Positive Rate')\n",
    "plt.title('True Positive Rate (TPR) with Model Parameters')\n",
    "\n",
    "# Displaying the table below the plot\n",
    "plt.table(cellText=table_data.values, colLabels=table_data.columns, rowLabels=table_data.index, cellLoc='center', loc='bottom', bbox=[0, -0.4, 1, 0.2])\n",
    "\n",
    "# Adjust layout to make room for the table\n",
    "plt.tight_layout()\n",
    "\n",
    "# Display the plot\n",
    "plt.show()"
   ]
  },
  {
   "cell_type": "code",
   "execution_count": null,
   "id": "f7ed0978-3204-426d-8193-f5c341609826",
   "metadata": {},
   "outputs": [],
   "source": []
  }
 ],
 "metadata": {
  "kernelspec": {
   "display_name": "Python 3 (ipykernel)",
   "language": "python",
   "name": "python3"
  },
  "language_info": {
   "codemirror_mode": {
    "name": "ipython",
    "version": 3
   },
   "file_extension": ".py",
   "mimetype": "text/x-python",
   "name": "python",
   "nbconvert_exporter": "python",
   "pygments_lexer": "ipython3",
   "version": "3.11.9"
  }
 },
 "nbformat": 4,
 "nbformat_minor": 5
}
